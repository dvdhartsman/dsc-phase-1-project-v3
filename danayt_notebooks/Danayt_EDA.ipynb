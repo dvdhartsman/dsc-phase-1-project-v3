{
 "cells": [
  {
   "cell_type": "code",
   "execution_count": 7,
   "id": "861f8f70-6178-412d-b2f3-fa673d1479f6",
   "metadata": {},
   "outputs": [],
   "source": [
    "import pandas as pd\n",
    "import numpy as np\n",
    "import matplotlib.pyplot as plt\n",
    "import seaborn as sns\n",
    "%matplotlib inline"
   ]
  },
  {
   "cell_type": "code",
   "execution_count": 8,
   "id": "866780e8-694e-4f00-9e13-feb2d9d7f6f9",
   "metadata": {
    "scrolled": true
   },
   "outputs": [
    {
     "data": {
      "text/html": [
       "<div>\n",
       "<style scoped>\n",
       "    .dataframe tbody tr th:only-of-type {\n",
       "        vertical-align: middle;\n",
       "    }\n",
       "\n",
       "    .dataframe tbody tr th {\n",
       "        vertical-align: top;\n",
       "    }\n",
       "\n",
       "    .dataframe thead th {\n",
       "        text-align: right;\n",
       "    }\n",
       "</style>\n",
       "<table border=\"1\" class=\"dataframe\">\n",
       "  <thead>\n",
       "    <tr style=\"text-align: right;\">\n",
       "      <th></th>\n",
       "      <th>Unnamed: 0</th>\n",
       "      <th>investigation_type</th>\n",
       "      <th>location</th>\n",
       "      <th>country</th>\n",
       "      <th>injury_severity</th>\n",
       "      <th>aircraft_damage</th>\n",
       "      <th>aircraft_category</th>\n",
       "      <th>make</th>\n",
       "      <th>model</th>\n",
       "      <th>number_of_engines</th>\n",
       "      <th>engine_type</th>\n",
       "      <th>purpose_of_flight</th>\n",
       "      <th>total_fatal_injuries</th>\n",
       "      <th>total_serious_injuries</th>\n",
       "      <th>total_minor_injuries</th>\n",
       "      <th>total_uninjured</th>\n",
       "      <th>weather_condition</th>\n",
       "      <th>broad_phase_of_flight</th>\n",
       "      <th>year</th>\n",
       "      <th>state</th>\n",
       "    </tr>\n",
       "  </thead>\n",
       "  <tbody>\n",
       "    <tr>\n",
       "      <th>0</th>\n",
       "      <td>0</td>\n",
       "      <td>Accident</td>\n",
       "      <td>TUCSON, AZ</td>\n",
       "      <td>United States</td>\n",
       "      <td>fatal</td>\n",
       "      <td>Destroyed</td>\n",
       "      <td>Unknown</td>\n",
       "      <td>Beech</td>\n",
       "      <td>95</td>\n",
       "      <td>2</td>\n",
       "      <td>Reciprocating</td>\n",
       "      <td>Personal</td>\n",
       "      <td>1</td>\n",
       "      <td>3</td>\n",
       "      <td>0</td>\n",
       "      <td>0</td>\n",
       "      <td>VMC</td>\n",
       "      <td>Takeoff</td>\n",
       "      <td>2003</td>\n",
       "      <td>AZ</td>\n",
       "    </tr>\n",
       "    <tr>\n",
       "      <th>1</th>\n",
       "      <td>1</td>\n",
       "      <td>Accident</td>\n",
       "      <td>Milford, UT</td>\n",
       "      <td>United States</td>\n",
       "      <td>non-fatal</td>\n",
       "      <td>Destroyed</td>\n",
       "      <td>Unknown</td>\n",
       "      <td>Aircraft Mfg &amp; Dev. Co. (Amd)</td>\n",
       "      <td>Ch2000</td>\n",
       "      <td>1</td>\n",
       "      <td>Reciprocating</td>\n",
       "      <td>Instructional</td>\n",
       "      <td>0</td>\n",
       "      <td>2</td>\n",
       "      <td>0</td>\n",
       "      <td>0</td>\n",
       "      <td>VMC</td>\n",
       "      <td>Cruise</td>\n",
       "      <td>2003</td>\n",
       "      <td>UT</td>\n",
       "    </tr>\n",
       "    <tr>\n",
       "      <th>2</th>\n",
       "      <td>2</td>\n",
       "      <td>Accident</td>\n",
       "      <td>IDAHO FALLS, ID</td>\n",
       "      <td>United States</td>\n",
       "      <td>non-fatal</td>\n",
       "      <td>Substantial</td>\n",
       "      <td>Unknown</td>\n",
       "      <td>Bell</td>\n",
       "      <td>47G</td>\n",
       "      <td>1</td>\n",
       "      <td>Turbo Shaft</td>\n",
       "      <td>Other Work Use</td>\n",
       "      <td>0</td>\n",
       "      <td>0</td>\n",
       "      <td>0</td>\n",
       "      <td>1</td>\n",
       "      <td>VMC</td>\n",
       "      <td>Cruise</td>\n",
       "      <td>2003</td>\n",
       "      <td>ID</td>\n",
       "    </tr>\n",
       "    <tr>\n",
       "      <th>3</th>\n",
       "      <td>3</td>\n",
       "      <td>Accident</td>\n",
       "      <td>NEW PORT RICHEY, FL</td>\n",
       "      <td>United States</td>\n",
       "      <td>non-fatal</td>\n",
       "      <td>Substantial</td>\n",
       "      <td>Unknown</td>\n",
       "      <td>Hughes</td>\n",
       "      <td>Oh6</td>\n",
       "      <td>1</td>\n",
       "      <td>Turbo Shaft</td>\n",
       "      <td>Public Aircraft</td>\n",
       "      <td>0</td>\n",
       "      <td>0</td>\n",
       "      <td>0</td>\n",
       "      <td>2</td>\n",
       "      <td>VMC</td>\n",
       "      <td>Takeoff</td>\n",
       "      <td>2003</td>\n",
       "      <td>FL</td>\n",
       "    </tr>\n",
       "    <tr>\n",
       "      <th>4</th>\n",
       "      <td>4</td>\n",
       "      <td>Accident</td>\n",
       "      <td>Shreveport, LA</td>\n",
       "      <td>United States</td>\n",
       "      <td>fatal</td>\n",
       "      <td>Destroyed</td>\n",
       "      <td>Unknown</td>\n",
       "      <td>Grumman American</td>\n",
       "      <td>Aa1A</td>\n",
       "      <td>1</td>\n",
       "      <td>Reciprocating</td>\n",
       "      <td>Personal</td>\n",
       "      <td>2</td>\n",
       "      <td>0</td>\n",
       "      <td>0</td>\n",
       "      <td>0</td>\n",
       "      <td>VMC</td>\n",
       "      <td>Takeoff</td>\n",
       "      <td>2003</td>\n",
       "      <td>LA</td>\n",
       "    </tr>\n",
       "    <tr>\n",
       "      <th>...</th>\n",
       "      <td>...</td>\n",
       "      <td>...</td>\n",
       "      <td>...</td>\n",
       "      <td>...</td>\n",
       "      <td>...</td>\n",
       "      <td>...</td>\n",
       "      <td>...</td>\n",
       "      <td>...</td>\n",
       "      <td>...</td>\n",
       "      <td>...</td>\n",
       "      <td>...</td>\n",
       "      <td>...</td>\n",
       "      <td>...</td>\n",
       "      <td>...</td>\n",
       "      <td>...</td>\n",
       "      <td>...</td>\n",
       "      <td>...</td>\n",
       "      <td>...</td>\n",
       "      <td>...</td>\n",
       "      <td>...</td>\n",
       "    </tr>\n",
       "    <tr>\n",
       "      <th>26978</th>\n",
       "      <td>26978</td>\n",
       "      <td>Accident</td>\n",
       "      <td>Annapolis, MD</td>\n",
       "      <td>United States</td>\n",
       "      <td>non-fatal</td>\n",
       "      <td>Unknown</td>\n",
       "      <td>Unknown</td>\n",
       "      <td>Piper</td>\n",
       "      <td>Pa28151</td>\n",
       "      <td>0</td>\n",
       "      <td>Unknown</td>\n",
       "      <td>Personal</td>\n",
       "      <td>0</td>\n",
       "      <td>1</td>\n",
       "      <td>0</td>\n",
       "      <td>0</td>\n",
       "      <td>Unknown</td>\n",
       "      <td>Unknown</td>\n",
       "      <td>2022</td>\n",
       "      <td>MD</td>\n",
       "    </tr>\n",
       "    <tr>\n",
       "      <th>26979</th>\n",
       "      <td>26979</td>\n",
       "      <td>Accident</td>\n",
       "      <td>Hampton, NH</td>\n",
       "      <td>United States</td>\n",
       "      <td>non-fatal</td>\n",
       "      <td>Unknown</td>\n",
       "      <td>Unknown</td>\n",
       "      <td>Bellanca</td>\n",
       "      <td>7Eca</td>\n",
       "      <td>0</td>\n",
       "      <td>Unknown</td>\n",
       "      <td>Unknown</td>\n",
       "      <td>0</td>\n",
       "      <td>0</td>\n",
       "      <td>0</td>\n",
       "      <td>0</td>\n",
       "      <td>Unknown</td>\n",
       "      <td>Unknown</td>\n",
       "      <td>2022</td>\n",
       "      <td>NH</td>\n",
       "    </tr>\n",
       "    <tr>\n",
       "      <th>26980</th>\n",
       "      <td>26980</td>\n",
       "      <td>Accident</td>\n",
       "      <td>Payson, AZ</td>\n",
       "      <td>United States</td>\n",
       "      <td>non-fatal</td>\n",
       "      <td>Substantial</td>\n",
       "      <td>Airplane</td>\n",
       "      <td>American Champion Aircraft</td>\n",
       "      <td>8Gcbc</td>\n",
       "      <td>1</td>\n",
       "      <td>Unknown</td>\n",
       "      <td>Personal</td>\n",
       "      <td>0</td>\n",
       "      <td>0</td>\n",
       "      <td>0</td>\n",
       "      <td>1</td>\n",
       "      <td>VMC</td>\n",
       "      <td>Unknown</td>\n",
       "      <td>2022</td>\n",
       "      <td>AZ</td>\n",
       "    </tr>\n",
       "    <tr>\n",
       "      <th>26981</th>\n",
       "      <td>26981</td>\n",
       "      <td>Accident</td>\n",
       "      <td>Morgan, UT</td>\n",
       "      <td>United States</td>\n",
       "      <td>non-fatal</td>\n",
       "      <td>Unknown</td>\n",
       "      <td>Unknown</td>\n",
       "      <td>Cessna</td>\n",
       "      <td>210N</td>\n",
       "      <td>0</td>\n",
       "      <td>Unknown</td>\n",
       "      <td>Personal</td>\n",
       "      <td>0</td>\n",
       "      <td>0</td>\n",
       "      <td>0</td>\n",
       "      <td>0</td>\n",
       "      <td>Unknown</td>\n",
       "      <td>Unknown</td>\n",
       "      <td>2022</td>\n",
       "      <td>UT</td>\n",
       "    </tr>\n",
       "    <tr>\n",
       "      <th>26982</th>\n",
       "      <td>26982</td>\n",
       "      <td>Accident</td>\n",
       "      <td>Athens, GA</td>\n",
       "      <td>United States</td>\n",
       "      <td>non-fatal</td>\n",
       "      <td>Unknown</td>\n",
       "      <td>Unknown</td>\n",
       "      <td>Piper</td>\n",
       "      <td>Pa24260</td>\n",
       "      <td>0</td>\n",
       "      <td>Unknown</td>\n",
       "      <td>Personal</td>\n",
       "      <td>0</td>\n",
       "      <td>1</td>\n",
       "      <td>0</td>\n",
       "      <td>1</td>\n",
       "      <td>Unknown</td>\n",
       "      <td>Unknown</td>\n",
       "      <td>2022</td>\n",
       "      <td>GA</td>\n",
       "    </tr>\n",
       "  </tbody>\n",
       "</table>\n",
       "<p>26983 rows × 20 columns</p>\n",
       "</div>"
      ],
      "text/plain": [
       "       Unnamed: 0 investigation_type             location        country  \\\n",
       "0               0           Accident           TUCSON, AZ  United States   \n",
       "1               1           Accident          Milford, UT  United States   \n",
       "2               2           Accident      IDAHO FALLS, ID  United States   \n",
       "3               3           Accident  NEW PORT RICHEY, FL  United States   \n",
       "4               4           Accident       Shreveport, LA  United States   \n",
       "...           ...                ...                  ...            ...   \n",
       "26978       26978           Accident        Annapolis, MD  United States   \n",
       "26979       26979           Accident          Hampton, NH  United States   \n",
       "26980       26980           Accident           Payson, AZ  United States   \n",
       "26981       26981           Accident           Morgan, UT  United States   \n",
       "26982       26982           Accident           Athens, GA  United States   \n",
       "\n",
       "      injury_severity aircraft_damage aircraft_category  \\\n",
       "0               fatal       Destroyed           Unknown   \n",
       "1           non-fatal       Destroyed           Unknown   \n",
       "2           non-fatal     Substantial           Unknown   \n",
       "3           non-fatal     Substantial           Unknown   \n",
       "4               fatal       Destroyed           Unknown   \n",
       "...               ...             ...               ...   \n",
       "26978       non-fatal         Unknown           Unknown   \n",
       "26979       non-fatal         Unknown           Unknown   \n",
       "26980       non-fatal     Substantial          Airplane   \n",
       "26981       non-fatal         Unknown           Unknown   \n",
       "26982       non-fatal         Unknown           Unknown   \n",
       "\n",
       "                                make    model  number_of_engines  \\\n",
       "0                              Beech       95                  2   \n",
       "1      Aircraft Mfg & Dev. Co. (Amd)   Ch2000                  1   \n",
       "2                               Bell      47G                  1   \n",
       "3                             Hughes      Oh6                  1   \n",
       "4                   Grumman American     Aa1A                  1   \n",
       "...                              ...      ...                ...   \n",
       "26978                          Piper  Pa28151                  0   \n",
       "26979                       Bellanca     7Eca                  0   \n",
       "26980     American Champion Aircraft    8Gcbc                  1   \n",
       "26981                         Cessna     210N                  0   \n",
       "26982                          Piper  Pa24260                  0   \n",
       "\n",
       "         engine_type purpose_of_flight  total_fatal_injuries  \\\n",
       "0      Reciprocating          Personal                     1   \n",
       "1      Reciprocating     Instructional                     0   \n",
       "2        Turbo Shaft    Other Work Use                     0   \n",
       "3        Turbo Shaft   Public Aircraft                     0   \n",
       "4      Reciprocating          Personal                     2   \n",
       "...              ...               ...                   ...   \n",
       "26978        Unknown          Personal                     0   \n",
       "26979        Unknown           Unknown                     0   \n",
       "26980        Unknown          Personal                     0   \n",
       "26981        Unknown          Personal                     0   \n",
       "26982        Unknown          Personal                     0   \n",
       "\n",
       "       total_serious_injuries  total_minor_injuries  total_uninjured  \\\n",
       "0                           3                     0                0   \n",
       "1                           2                     0                0   \n",
       "2                           0                     0                1   \n",
       "3                           0                     0                2   \n",
       "4                           0                     0                0   \n",
       "...                       ...                   ...              ...   \n",
       "26978                       1                     0                0   \n",
       "26979                       0                     0                0   \n",
       "26980                       0                     0                1   \n",
       "26981                       0                     0                0   \n",
       "26982                       1                     0                1   \n",
       "\n",
       "      weather_condition broad_phase_of_flight  year state  \n",
       "0                   VMC               Takeoff  2003    AZ  \n",
       "1                   VMC                Cruise  2003    UT  \n",
       "2                   VMC                Cruise  2003    ID  \n",
       "3                   VMC               Takeoff  2003    FL  \n",
       "4                   VMC               Takeoff  2003    LA  \n",
       "...                 ...                   ...   ...   ...  \n",
       "26978           Unknown               Unknown  2022    MD  \n",
       "26979           Unknown               Unknown  2022    NH  \n",
       "26980               VMC               Unknown  2022    AZ  \n",
       "26981           Unknown               Unknown  2022    UT  \n",
       "26982           Unknown               Unknown  2022    GA  \n",
       "\n",
       "[26983 rows x 20 columns]"
      ]
     },
     "execution_count": 8,
     "metadata": {},
     "output_type": "execute_result"
    }
   ],
   "source": [
    "df = pd.read_csv(\"data/aviation_final.csv\")\n",
    "df"
   ]
  },
  {
   "cell_type": "code",
   "execution_count": 9,
   "id": "ec6b8c3c-99e8-4199-aa2c-b22e7ead726c",
   "metadata": {},
   "outputs": [
    {
     "name": "stdout",
     "output_type": "stream",
     "text": [
      "<class 'pandas.core.frame.DataFrame'>\n",
      "RangeIndex: 26983 entries, 0 to 26982\n",
      "Data columns (total 20 columns):\n",
      " #   Column                  Non-Null Count  Dtype \n",
      "---  ------                  --------------  ----- \n",
      " 0   Unnamed: 0              26983 non-null  int64 \n",
      " 1   investigation_type      26983 non-null  object\n",
      " 2   location                26983 non-null  object\n",
      " 3   country                 26983 non-null  object\n",
      " 4   injury_severity         26983 non-null  object\n",
      " 5   aircraft_damage         26983 non-null  object\n",
      " 6   aircraft_category       26983 non-null  object\n",
      " 7   make                    26983 non-null  object\n",
      " 8   model                   26983 non-null  object\n",
      " 9   number_of_engines       26983 non-null  int64 \n",
      " 10  engine_type             26983 non-null  object\n",
      " 11  purpose_of_flight       26983 non-null  object\n",
      " 12  total_fatal_injuries    26983 non-null  int64 \n",
      " 13  total_serious_injuries  26983 non-null  int64 \n",
      " 14  total_minor_injuries    26983 non-null  int64 \n",
      " 15  total_uninjured         26983 non-null  int64 \n",
      " 16  weather_condition       26983 non-null  object\n",
      " 17  broad_phase_of_flight   26983 non-null  object\n",
      " 18  year                    26983 non-null  int64 \n",
      " 19  state                   26978 non-null  object\n",
      "dtypes: int64(7), object(13)\n",
      "memory usage: 4.1+ MB\n"
     ]
    }
   ],
   "source": [
    "df.info()"
   ]
  },
  {
   "cell_type": "markdown",
   "id": "cdaadf70-f2d5-40b3-ae8b-7e734ed99f63",
   "metadata": {},
   "source": [
    "Switch event_date to datetime "
   ]
  },
  {
   "cell_type": "code",
   "execution_count": 10,
   "id": "917a80af-b19d-46e9-9302-443116dd02bb",
   "metadata": {},
   "outputs": [
    {
     "ename": "KeyError",
     "evalue": "'event_date'",
     "output_type": "error",
     "traceback": [
      "\u001b[0;31m---------------------------------------------------------------------------\u001b[0m",
      "\u001b[0;31mKeyError\u001b[0m                                  Traceback (most recent call last)",
      "File \u001b[0;32m~/anaconda3/envs/learn-env/lib/python3.9/site-packages/pandas/core/indexes/base.py:3653\u001b[0m, in \u001b[0;36mIndex.get_loc\u001b[0;34m(self, key)\u001b[0m\n\u001b[1;32m   3652\u001b[0m \u001b[38;5;28;01mtry\u001b[39;00m:\n\u001b[0;32m-> 3653\u001b[0m     \u001b[38;5;28;01mreturn\u001b[39;00m \u001b[38;5;28;43mself\u001b[39;49m\u001b[38;5;241;43m.\u001b[39;49m\u001b[43m_engine\u001b[49m\u001b[38;5;241;43m.\u001b[39;49m\u001b[43mget_loc\u001b[49m\u001b[43m(\u001b[49m\u001b[43mcasted_key\u001b[49m\u001b[43m)\u001b[49m\n\u001b[1;32m   3654\u001b[0m \u001b[38;5;28;01mexcept\u001b[39;00m \u001b[38;5;167;01mKeyError\u001b[39;00m \u001b[38;5;28;01mas\u001b[39;00m err:\n",
      "File \u001b[0;32m~/anaconda3/envs/learn-env/lib/python3.9/site-packages/pandas/_libs/index.pyx:147\u001b[0m, in \u001b[0;36mpandas._libs.index.IndexEngine.get_loc\u001b[0;34m()\u001b[0m\n",
      "File \u001b[0;32m~/anaconda3/envs/learn-env/lib/python3.9/site-packages/pandas/_libs/index.pyx:176\u001b[0m, in \u001b[0;36mpandas._libs.index.IndexEngine.get_loc\u001b[0;34m()\u001b[0m\n",
      "File \u001b[0;32mpandas/_libs/hashtable_class_helper.pxi:7080\u001b[0m, in \u001b[0;36mpandas._libs.hashtable.PyObjectHashTable.get_item\u001b[0;34m()\u001b[0m\n",
      "File \u001b[0;32mpandas/_libs/hashtable_class_helper.pxi:7088\u001b[0m, in \u001b[0;36mpandas._libs.hashtable.PyObjectHashTable.get_item\u001b[0;34m()\u001b[0m\n",
      "\u001b[0;31mKeyError\u001b[0m: 'event_date'",
      "\nThe above exception was the direct cause of the following exception:\n",
      "\u001b[0;31mKeyError\u001b[0m                                  Traceback (most recent call last)",
      "Cell \u001b[0;32mIn[10], line 1\u001b[0m\n\u001b[0;32m----> 1\u001b[0m df[\u001b[38;5;124m'\u001b[39m\u001b[38;5;124mevent_date\u001b[39m\u001b[38;5;124m'\u001b[39m] \u001b[38;5;241m=\u001b[39m pd\u001b[38;5;241m.\u001b[39mto_datetime(\u001b[43mdf\u001b[49m\u001b[43m[\u001b[49m\u001b[38;5;124;43m'\u001b[39;49m\u001b[38;5;124;43mevent_date\u001b[39;49m\u001b[38;5;124;43m'\u001b[39;49m\u001b[43m]\u001b[49m)\n",
      "File \u001b[0;32m~/anaconda3/envs/learn-env/lib/python3.9/site-packages/pandas/core/frame.py:3761\u001b[0m, in \u001b[0;36mDataFrame.__getitem__\u001b[0;34m(self, key)\u001b[0m\n\u001b[1;32m   3759\u001b[0m \u001b[38;5;28;01mif\u001b[39;00m \u001b[38;5;28mself\u001b[39m\u001b[38;5;241m.\u001b[39mcolumns\u001b[38;5;241m.\u001b[39mnlevels \u001b[38;5;241m>\u001b[39m \u001b[38;5;241m1\u001b[39m:\n\u001b[1;32m   3760\u001b[0m     \u001b[38;5;28;01mreturn\u001b[39;00m \u001b[38;5;28mself\u001b[39m\u001b[38;5;241m.\u001b[39m_getitem_multilevel(key)\n\u001b[0;32m-> 3761\u001b[0m indexer \u001b[38;5;241m=\u001b[39m \u001b[38;5;28;43mself\u001b[39;49m\u001b[38;5;241;43m.\u001b[39;49m\u001b[43mcolumns\u001b[49m\u001b[38;5;241;43m.\u001b[39;49m\u001b[43mget_loc\u001b[49m\u001b[43m(\u001b[49m\u001b[43mkey\u001b[49m\u001b[43m)\u001b[49m\n\u001b[1;32m   3762\u001b[0m \u001b[38;5;28;01mif\u001b[39;00m is_integer(indexer):\n\u001b[1;32m   3763\u001b[0m     indexer \u001b[38;5;241m=\u001b[39m [indexer]\n",
      "File \u001b[0;32m~/anaconda3/envs/learn-env/lib/python3.9/site-packages/pandas/core/indexes/base.py:3655\u001b[0m, in \u001b[0;36mIndex.get_loc\u001b[0;34m(self, key)\u001b[0m\n\u001b[1;32m   3653\u001b[0m     \u001b[38;5;28;01mreturn\u001b[39;00m \u001b[38;5;28mself\u001b[39m\u001b[38;5;241m.\u001b[39m_engine\u001b[38;5;241m.\u001b[39mget_loc(casted_key)\n\u001b[1;32m   3654\u001b[0m \u001b[38;5;28;01mexcept\u001b[39;00m \u001b[38;5;167;01mKeyError\u001b[39;00m \u001b[38;5;28;01mas\u001b[39;00m err:\n\u001b[0;32m-> 3655\u001b[0m     \u001b[38;5;28;01mraise\u001b[39;00m \u001b[38;5;167;01mKeyError\u001b[39;00m(key) \u001b[38;5;28;01mfrom\u001b[39;00m \u001b[38;5;21;01merr\u001b[39;00m\n\u001b[1;32m   3656\u001b[0m \u001b[38;5;28;01mexcept\u001b[39;00m \u001b[38;5;167;01mTypeError\u001b[39;00m:\n\u001b[1;32m   3657\u001b[0m     \u001b[38;5;66;03m# If we have a listlike key, _check_indexing_error will raise\u001b[39;00m\n\u001b[1;32m   3658\u001b[0m     \u001b[38;5;66;03m#  InvalidIndexError. Otherwise we fall through and re-raise\u001b[39;00m\n\u001b[1;32m   3659\u001b[0m     \u001b[38;5;66;03m#  the TypeError.\u001b[39;00m\n\u001b[1;32m   3660\u001b[0m     \u001b[38;5;28mself\u001b[39m\u001b[38;5;241m.\u001b[39m_check_indexing_error(key)\n",
      "\u001b[0;31mKeyError\u001b[0m: 'event_date'"
     ]
    }
   ],
   "source": [
    "df['event_date'] = pd.to_datetime(df['event_date'])"
   ]
  },
  {
   "cell_type": "code",
   "execution_count": null,
   "id": "44b06b69-e73f-4a76-a1b4-68e7360ea755",
   "metadata": {},
   "outputs": [],
   "source": [
    "df = df.drop(['injury_severity','Unnamed: 0'],axis =1)"
   ]
  },
  {
   "cell_type": "code",
   "execution_count": null,
   "id": "7f7c6c94-9ecc-4fa7-b7cb-a184c2794a6e",
   "metadata": {},
   "outputs": [],
   "source": [
    "df = df[df['year'] >= 2003]"
   ]
  },
  {
   "cell_type": "code",
   "execution_count": null,
   "id": "c424de08-511d-4930-86c9-3de8d9725f50",
   "metadata": {
    "scrolled": true
   },
   "outputs": [],
   "source": [
    "df.info()"
   ]
  },
  {
   "cell_type": "code",
   "execution_count": null,
   "id": "42a5eeb8-0e70-4e04-8987-9d174785f7d8",
   "metadata": {},
   "outputs": [],
   "source": [
    "df['total_fatal_injuries'] = pd.to_numeric(df['total_fatal_injuries'])\n",
    "df['total_serious_injuries'] = pd.to_numeric(df['total_serious_injuries'])\n",
    "df['total_minor_injuries'] = pd.to_numeric(df['total_minor_injuries'])\n",
    "\n",
    "grouped_data = df.groupby('make').agg({\n",
    "    'total_fatal_injuries': 'sum',\n",
    "    'total_serious_injuries': 'sum',\n",
    "    'total_minor_injuries': 'sum'\n",
    "})\n",
    "\n",
    "grouped_data['total_injuries'] = grouped_data['total_fatal_injuries'] + grouped_data['total_serious_injuries'] + grouped_data['total_minor_injuries']\n",
    "\n",
    "top_makes = grouped_data.nlargest(30, 'total_injuries')\n",
    "\n",
    "print(top_makes)"
   ]
  },
  {
   "cell_type": "code",
   "execution_count": null,
   "id": "fa1a91ab-cba5-4ffd-9ed7-f899ed38a7f5",
   "metadata": {},
   "outputs": [],
   "source": [
    "df = df[df['weather_condition'] != 'Unknown']"
   ]
  },
  {
   "cell_type": "code",
   "execution_count": null,
   "id": "13693e77-dfa3-47eb-b1db-a8f416985e00",
   "metadata": {},
   "outputs": [],
   "source": [
    "\n",
    "import pandas as pd\n",
    "import matplotlib.pyplot as plt\n",
    "\n",
    "# Group by 'make' and 'weather_type' and calculate total injuries\n",
    "grouped_data = df.groupby(['make', 'weather_condition']).agg({\n",
    "    'total_fatal_injuries': 'sum',\n",
    "    'total_serious_injuries': 'sum',\n",
    "    'total_minor_injuries': 'sum'\n",
    "})\n",
    "grouped_data['total_injuries'] = grouped_data['total_fatal_injuries'] + grouped_data['total_serious_injuries'] + grouped_data['total_minor_injuries']\n",
    "\n",
    "# Get the top makes with highest total injuries\n",
    "top_makes = grouped_data.nlargest(10, 'total_injuries')\n",
    "\n",
    "# Create a bar plot\n",
    "fig, ax = plt.subplots(figsize=(10, 6))\n",
    "top_makes[['total_fatal_injuries', 'total_serious_injuries', 'total_minor_injuries']].plot(kind='bar', ax=ax)\n",
    "\n",
    "# Set labels and title\n",
    "ax.set_xlabel('Aircraft Make and Weather Type', fontsize=12)\n",
    "ax.set_ylabel('Total Injuries', fontsize=12)\n",
    "ax.set_title('Highest Total Injuries by Aircraft Make and Weather Type', fontsize=14)\n",
    "\n",
    "# Update x-axis labels to include weather type\n",
    "ax.set_xticklabels([f\"{make}\\n{weather_type}\" for make, weather_type in top_makes.index])\n",
    "\n",
    "# Show the plot\n",
    "plt.show()"
   ]
  },
  {
   "cell_type": "code",
   "execution_count": null,
   "id": "0e1af087-b910-4933-af92-7f1fe54d4cb2",
   "metadata": {
    "scrolled": true
   },
   "outputs": [],
   "source": [
    "df['weather_condition'].value_counts()"
   ]
  },
  {
   "cell_type": "code",
   "execution_count": 46,
   "id": "a53a3302-bb1f-4943-ab52-a5192248a7ae",
   "metadata": {},
   "outputs": [],
   "source": [
    "\n",
    "model_counts = df.groupby(['make', 'model']).size().reset_index(name='count')\n",
    "\n",
    "top_100_models = model_counts.sort_values(by='count', ascending=False).head(100)\n"
   ]
  },
  {
   "cell_type": "code",
   "execution_count": 51,
   "id": "2ef5d65f-e8d3-4a2d-b359-b8aa5c0942fb",
   "metadata": {},
   "outputs": [
    {
     "name": "stdout",
     "output_type": "stream",
     "text": [
      "<class 'pandas.core.frame.DataFrame'>\n",
      "RangeIndex: 3598 entries, 0 to 3597\n",
      "Data columns (total 3 columns):\n",
      " #   Column  Non-Null Count  Dtype \n",
      "---  ------  --------------  ----- \n",
      " 0   make    3598 non-null   object\n",
      " 1   model   3598 non-null   object\n",
      " 2   count   3598 non-null   int64 \n",
      "dtypes: int64(1), object(2)\n",
      "memory usage: 84.5+ KB\n"
     ]
    }
   ],
   "source": [
    "model_counts.info()"
   ]
  },
  {
   "cell_type": "markdown",
   "id": "3d404cdf-949b-4e3d-8076-05c309663fec",
   "metadata": {},
   "source": [
    "Focusing on these Four columns to determine the safest aircraft"
   ]
  },
  {
   "cell_type": "code",
   "execution_count": 41,
   "id": "8d761ec8-79d9-4e7d-b367-1b1206d96129",
   "metadata": {
    "scrolled": true
   },
   "outputs": [
    {
     "data": {
      "text/html": [
       "<div>\n",
       "<style scoped>\n",
       "    .dataframe tbody tr th:only-of-type {\n",
       "        vertical-align: middle;\n",
       "    }\n",
       "\n",
       "    .dataframe tbody tr th {\n",
       "        vertical-align: top;\n",
       "    }\n",
       "\n",
       "    .dataframe thead th {\n",
       "        text-align: right;\n",
       "    }\n",
       "</style>\n",
       "<table border=\"1\" class=\"dataframe\">\n",
       "  <thead>\n",
       "    <tr style=\"text-align: right;\">\n",
       "      <th></th>\n",
       "      <th>make</th>\n",
       "      <th>model</th>\n",
       "      <th>aircraft_category</th>\n",
       "      <th>number_of_engines</th>\n",
       "      <th>aircraft_damage</th>\n",
       "      <th>weather_condition</th>\n",
       "    </tr>\n",
       "  </thead>\n",
       "  <tbody>\n",
       "    <tr>\n",
       "      <th>0</th>\n",
       "      <td>Beech</td>\n",
       "      <td>95</td>\n",
       "      <td>Unknown</td>\n",
       "      <td>2</td>\n",
       "      <td>Destroyed</td>\n",
       "      <td>VMC</td>\n",
       "    </tr>\n",
       "    <tr>\n",
       "      <th>1</th>\n",
       "      <td>Bell</td>\n",
       "      <td>47G</td>\n",
       "      <td>Unknown</td>\n",
       "      <td>1</td>\n",
       "      <td>Substantial</td>\n",
       "      <td>VMC</td>\n",
       "    </tr>\n",
       "    <tr>\n",
       "      <th>2</th>\n",
       "      <td>Hughes</td>\n",
       "      <td>Oh6</td>\n",
       "      <td>Unknown</td>\n",
       "      <td>1</td>\n",
       "      <td>Substantial</td>\n",
       "      <td>VMC</td>\n",
       "    </tr>\n",
       "    <tr>\n",
       "      <th>3</th>\n",
       "      <td>Grumman American</td>\n",
       "      <td>Aa1A</td>\n",
       "      <td>Unknown</td>\n",
       "      <td>1</td>\n",
       "      <td>Destroyed</td>\n",
       "      <td>VMC</td>\n",
       "    </tr>\n",
       "    <tr>\n",
       "      <th>4</th>\n",
       "      <td>Cessna</td>\n",
       "      <td>150K</td>\n",
       "      <td>Unknown</td>\n",
       "      <td>1</td>\n",
       "      <td>Substantial</td>\n",
       "      <td>VMC</td>\n",
       "    </tr>\n",
       "    <tr>\n",
       "      <th>...</th>\n",
       "      <td>...</td>\n",
       "      <td>...</td>\n",
       "      <td>...</td>\n",
       "      <td>...</td>\n",
       "      <td>...</td>\n",
       "      <td>...</td>\n",
       "    </tr>\n",
       "    <tr>\n",
       "      <th>18470</th>\n",
       "      <td>Cessna</td>\n",
       "      <td>172F</td>\n",
       "      <td>Unknown</td>\n",
       "      <td>0</td>\n",
       "      <td>Unknown</td>\n",
       "      <td>Unknown</td>\n",
       "    </tr>\n",
       "    <tr>\n",
       "      <th>18471</th>\n",
       "      <td>Piper</td>\n",
       "      <td>Pa28151</td>\n",
       "      <td>Unknown</td>\n",
       "      <td>0</td>\n",
       "      <td>Unknown</td>\n",
       "      <td>Unknown</td>\n",
       "    </tr>\n",
       "    <tr>\n",
       "      <th>18472</th>\n",
       "      <td>American Champion Aircraft</td>\n",
       "      <td>8Gcbc</td>\n",
       "      <td>Airplane</td>\n",
       "      <td>1</td>\n",
       "      <td>Substantial</td>\n",
       "      <td>VMC</td>\n",
       "    </tr>\n",
       "    <tr>\n",
       "      <th>18473</th>\n",
       "      <td>Cessna</td>\n",
       "      <td>210N</td>\n",
       "      <td>Unknown</td>\n",
       "      <td>0</td>\n",
       "      <td>Unknown</td>\n",
       "      <td>Unknown</td>\n",
       "    </tr>\n",
       "    <tr>\n",
       "      <th>18474</th>\n",
       "      <td>Piper</td>\n",
       "      <td>Pa24260</td>\n",
       "      <td>Unknown</td>\n",
       "      <td>0</td>\n",
       "      <td>Unknown</td>\n",
       "      <td>Unknown</td>\n",
       "    </tr>\n",
       "  </tbody>\n",
       "</table>\n",
       "<p>18475 rows × 6 columns</p>\n",
       "</div>"
      ],
      "text/plain": [
       "                             make    model aircraft_category  \\\n",
       "0                           Beech       95           Unknown   \n",
       "1                            Bell      47G           Unknown   \n",
       "2                          Hughes      Oh6           Unknown   \n",
       "3                Grumman American     Aa1A           Unknown   \n",
       "4                          Cessna     150K           Unknown   \n",
       "...                           ...      ...               ...   \n",
       "18470                      Cessna     172F           Unknown   \n",
       "18471                       Piper  Pa28151           Unknown   \n",
       "18472  American Champion Aircraft    8Gcbc          Airplane   \n",
       "18473                      Cessna     210N           Unknown   \n",
       "18474                       Piper  Pa24260           Unknown   \n",
       "\n",
       "       number_of_engines aircraft_damage weather_condition  \n",
       "0                      2       Destroyed               VMC  \n",
       "1                      1     Substantial               VMC  \n",
       "2                      1     Substantial               VMC  \n",
       "3                      1       Destroyed               VMC  \n",
       "4                      1     Substantial               VMC  \n",
       "...                  ...             ...               ...  \n",
       "18470                  0         Unknown           Unknown  \n",
       "18471                  0         Unknown           Unknown  \n",
       "18472                  1     Substantial               VMC  \n",
       "18473                  0         Unknown           Unknown  \n",
       "18474                  0         Unknown           Unknown  \n",
       "\n",
       "[18475 rows x 6 columns]"
      ]
     },
     "execution_count": 41,
     "metadata": {},
     "output_type": "execute_result"
    }
   ],
   "source": [
    "data = df\n",
    "data = data[['make','model','aircraft_category','number_of_engines','aircraft_damage','weather_condition']]\n",
    "data"
   ]
  },
  {
   "cell_type": "code",
   "execution_count": 55,
   "id": "8c11819d-0561-4f2e-ab6b-9d09f492955e",
   "metadata": {},
   "outputs": [
    {
     "data": {
      "image/png": "[encoded data removed]",
      "text/plain": [
       "<Figure size 1000x600 with 1 Axes>"
      ]
     },
     "metadata": {},
     "output_type": "display_data"
    }
   ],
   "source": [
    "\n",
    "df['total_fatal_injuries'] = pd.to_numeric(df['total_fatal_injuries'])\n",
    "df['total_serious_injuries'] = pd.to_numeric(df['total_serious_injuries'])\n",
    "df['total_minor_injuries'] = pd.to_numeric(df['total_minor_injuries'])\n",
    "\n",
    "grouped_data = df.groupby('make').agg({\n",
    "    'total_fatal_injuries': 'sum',\n",
    "    'total_serious_injuries': 'sum',\n",
    "    'total_minor_injuries': 'sum'\n",
    "})\n",
    "\n",
    "grouped_data['total_injuries'] = grouped_data['total_fatal_injuries'] + grouped_data['total_serious_injuries'] + grouped_data['total_minor_injuries']\n",
    "\n",
    "top_makes = grouped_data.nlargest(10, 'total_injuries')\n",
    "\n",
    "# Create a bar plot\n",
    "fig, ax = plt.subplots(figsize=(10, 6))\n",
    "top_makes[['total_fatal_injuries', 'total_serious_injuries', 'total_minor_injuries']].plot(kind='bar', ax=ax)\n",
    "\n",
    "# Set labels and title\n",
    "ax.set_xlabel('Aircraft Make', fontsize=12)\n",
    "ax.set_ylabel('Total Injuries', fontsize=12)\n",
    "ax.set_title('Highest Total Injuries by Aircraft Make', fontsize=14)\n",
    "\n",
    "# Show the plot\n",
    "plt.show()"
   ]
  },
  {
   "cell_type": "code",
   "execution_count": 54,
   "id": "5ec7c2e9-0613-419c-b1dc-4d2c918ac0d3",
   "metadata": {},
   "outputs": [
    {
     "data": {
      "text/html": [
       "<div>\n",
       "<style scoped>\n",
       "    .dataframe tbody tr th:only-of-type {\n",
       "        vertical-align: middle;\n",
       "    }\n",
       "\n",
       "    .dataframe tbody tr th {\n",
       "        vertical-align: top;\n",
       "    }\n",
       "\n",
       "    .dataframe thead th {\n",
       "        text-align: right;\n",
       "    }\n",
       "</style>\n",
       "<table border=\"1\" class=\"dataframe\">\n",
       "  <thead>\n",
       "    <tr style=\"text-align: right;\">\n",
       "      <th></th>\n",
       "      <th>total_fatal_injuries</th>\n",
       "      <th>total_serious_injuries</th>\n",
       "      <th>total_minor_injuries</th>\n",
       "      <th>total_injuries</th>\n",
       "    </tr>\n",
       "    <tr>\n",
       "      <th>make</th>\n",
       "      <th></th>\n",
       "      <th></th>\n",
       "      <th></th>\n",
       "      <th></th>\n",
       "    </tr>\n",
       "  </thead>\n",
       "  <tbody>\n",
       "    <tr>\n",
       "      <th>Cessna</th>\n",
       "      <td>2088</td>\n",
       "      <td>1368</td>\n",
       "      <td>1096</td>\n",
       "      <td>4552</td>\n",
       "    </tr>\n",
       "    <tr>\n",
       "      <th>Piper</th>\n",
       "      <td>1507</td>\n",
       "      <td>808</td>\n",
       "      <td>682</td>\n",
       "      <td>2997</td>\n",
       "    </tr>\n",
       "    <tr>\n",
       "      <th>Beech</th>\n",
       "      <td>957</td>\n",
       "      <td>356</td>\n",
       "      <td>298</td>\n",
       "      <td>1611</td>\n",
       "    </tr>\n",
       "    <tr>\n",
       "      <th>Mooney</th>\n",
       "      <td>192</td>\n",
       "      <td>90</td>\n",
       "      <td>119</td>\n",
       "      <td>401</td>\n",
       "    </tr>\n",
       "    <tr>\n",
       "      <th>Embraer</th>\n",
       "      <td>195</td>\n",
       "      <td>2</td>\n",
       "      <td>3</td>\n",
       "      <td>200</td>\n",
       "    </tr>\n",
       "    <tr>\n",
       "      <th>...</th>\n",
       "      <td>...</td>\n",
       "      <td>...</td>\n",
       "      <td>...</td>\n",
       "      <td>...</td>\n",
       "    </tr>\n",
       "    <tr>\n",
       "      <th>Casa</th>\n",
       "      <td>8</td>\n",
       "      <td>0</td>\n",
       "      <td>2</td>\n",
       "      <td>10</td>\n",
       "    </tr>\n",
       "    <tr>\n",
       "      <th>Eurocopter Deutschland</th>\n",
       "      <td>9</td>\n",
       "      <td>1</td>\n",
       "      <td>0</td>\n",
       "      <td>10</td>\n",
       "    </tr>\n",
       "    <tr>\n",
       "      <th>Extra Flugzeugbau Gmbh</th>\n",
       "      <td>6</td>\n",
       "      <td>2</td>\n",
       "      <td>2</td>\n",
       "      <td>10</td>\n",
       "    </tr>\n",
       "    <tr>\n",
       "      <th>Schleicher</th>\n",
       "      <td>5</td>\n",
       "      <td>3</td>\n",
       "      <td>2</td>\n",
       "      <td>10</td>\n",
       "    </tr>\n",
       "    <tr>\n",
       "      <th>Stearman</th>\n",
       "      <td>1</td>\n",
       "      <td>8</td>\n",
       "      <td>1</td>\n",
       "      <td>10</td>\n",
       "    </tr>\n",
       "  </tbody>\n",
       "</table>\n",
       "<p>100 rows × 4 columns</p>\n",
       "</div>"
      ],
      "text/plain": [
       "                        total_fatal_injuries  total_serious_injuries  \\\n",
       "make                                                                   \n",
       "Cessna                                  2088                    1368   \n",
       "Piper                                   1507                     808   \n",
       "Beech                                    957                     356   \n",
       "Mooney                                   192                      90   \n",
       "Embraer                                  195                       2   \n",
       "...                                      ...                     ...   \n",
       "Casa                                       8                       0   \n",
       "Eurocopter Deutschland                     9                       1   \n",
       "Extra Flugzeugbau Gmbh                     6                       2   \n",
       "Schleicher                                 5                       3   \n",
       "Stearman                                   1                       8   \n",
       "\n",
       "                        total_minor_injuries  total_injuries  \n",
       "make                                                          \n",
       "Cessna                                  1096            4552  \n",
       "Piper                                    682            2997  \n",
       "Beech                                    298            1611  \n",
       "Mooney                                   119             401  \n",
       "Embraer                                    3             200  \n",
       "...                                      ...             ...  \n",
       "Casa                                       2              10  \n",
       "Eurocopter Deutschland                     0              10  \n",
       "Extra Flugzeugbau Gmbh                     2              10  \n",
       "Schleicher                                 2              10  \n",
       "Stearman                                   1              10  \n",
       "\n",
       "[100 rows x 4 columns]"
      ]
     },
     "execution_count": 54,
     "metadata": {},
     "output_type": "execute_result"
    }
   ],
   "source": [
    "top_make"
   ]
  },
  {
   "cell_type": "code",
   "execution_count": null,
   "id": "1bc9dc2d-ad92-48a9-9a7e-0d3e296fdf84",
   "metadata": {},
   "outputs": [],
   "source": []
  },
  {
   "cell_type": "code",
   "execution_count": null,
   "id": "409b501b-57fb-4f5c-8ec0-e4715d8d3f93",
   "metadata": {},
   "outputs": [],
   "source": [
    "list(df['make'].unique())"
   ]
  },
  {
   "cell_type": "code",
   "execution_count": null,
   "id": "6a7c374a-669b-4d5a-9a87-17137d0b2d3d",
   "metadata": {},
   "outputs": [],
   "source": [
    "df.info()"
   ]
  },
  {
   "cell_type": "code",
   "execution_count": null,
   "id": "20815b6c-3d08-4486-99bf-d8cfacff5a01",
   "metadata": {
    "scrolled": true
   },
   "outputs": [],
   "source": [
    "df['event_date'] = pd.to_datetime(df['event_date'], format='%Y-%m-%d')\n",
    "\n",
    "\n",
    "df['month'] = df['event_date'].dt.month\n",
    "df['day'] = df['event_date'].dt.day\n",
    "df"
   ]
  },
  {
   "cell_type": "code",
   "execution_count": null,
   "id": "73759b1b-56a0-4ce0-a837-9a1057be2e51",
   "metadata": {},
   "outputs": [],
   "source": [
    "df = df[df['amateur_built']!='Yes']"
   ]
  },
  {
   "cell_type": "code",
   "execution_count": null,
   "id": "0c7eec31-b5cc-4783-9020-224de5dcab83",
   "metadata": {},
   "outputs": [],
   "source": [
    "mask = df['amateur_built'] == 'yes'\n",
    "any_yes_rows = mask.any()\n",
    "print(any_yes_rows)"
   ]
  },
  {
   "cell_type": "code",
   "execution_count": null,
   "id": "85cb9870-b9d6-4c92-b2c9-ede13331aeb3",
   "metadata": {},
   "outputs": [],
   "source": [
    "print(df.columns)"
   ]
  },
  {
   "cell_type": "code",
   "execution_count": null,
   "id": "fd649c9a-1812-427f-9366-cacb5bcce8bc",
   "metadata": {},
   "outputs": [],
   "source": [
    "df.info()"
   ]
  },
  {
   "cell_type": "code",
   "execution_count": null,
   "id": "83831f95-cb2c-43ea-bd57-27ee1ba57163",
   "metadata": {},
   "outputs": [],
   "source": [
    "df['country'].value_counts()"
   ]
  },
  {
   "cell_type": "code",
   "execution_count": null,
   "id": "1b23b349-fbc0-4f75-bf10-e17162e5c4ed",
   "metadata": {
    "scrolled": true
   },
   "outputs": [],
   "source": [
    "df = df[df['country'] == 'United States']\n",
    "df.info()"
   ]
  },
  {
   "cell_type": "code",
   "execution_count": null,
   "id": "1e416a1a-fc4c-40fe-a011-145a7c5fd32e",
   "metadata": {},
   "outputs": [],
   "source": [
    "list(df['purpose_of_flight'].unique())"
   ]
  },
  {
   "cell_type": "code",
   "execution_count": null,
   "id": "02cbe03a-fd03-4d4e-842a-2132d595e4d3",
   "metadata": {},
   "outputs": [],
   "source": [
    "df['purpose_of_flights'] = df['purpose_of_flight'].str.replace('Public Aircraft - Federal','Public Aircraft', regex = True)"
   ]
  },
  {
   "cell_type": "code",
   "execution_count": null,
   "id": "5146d9e5-db16-4481-abd9-b762c1a0516d",
   "metadata": {},
   "outputs": [],
   "source": [
    "df['purpose_of_flights'] = df['purpose_of_flight'].str.replace('Public Aircraft - Local','Public Aircraft', regex = True)"
   ]
  },
  {
   "cell_type": "code",
   "execution_count": null,
   "id": "0c098b49-563a-488d-9e57-a8c90b7b95a3",
   "metadata": {},
   "outputs": [],
   "source": [
    "df['purpose_of_flights'] = df['purpose_of_flight'].str.replace('Public Aircraft - State','Public Aircraft', regex = True)"
   ]
  },
  {
   "cell_type": "code",
   "execution_count": null,
   "id": "e944ed52-7623-41e3-bd73-7238491cfa69",
   "metadata": {},
   "outputs": [],
   "source": [
    "list(df['purpose_of_flight'].unique())"
   ]
  },
  {
   "cell_type": "code",
   "execution_count": null,
   "id": "09d682fe-8e06-449a-a733-dfa07148abb1",
   "metadata": {},
   "outputs": [],
   "source": [
    "list(df['investigation_type'].unique())"
   ]
  },
  {
   "cell_type": "code",
   "execution_count": null,
   "id": "d31ea79c-7598-4679-8f0d-22817d7f176f",
   "metadata": {},
   "outputs": [],
   "source": [
    "\n",
    "df[(df['report_status'].str.contains('student', case=False)) & (df['purpose_of_flight'] == 'Instructional')]\n",
    " "
   ]
  },
  {
   "cell_type": "code",
   "execution_count": null,
   "id": "12f45cd6-3e5f-41dc-8666-030e87a95beb",
   "metadata": {},
   "outputs": [],
   "source": [
    "grouped_df = df.groupby(['engine_type','model','make']).size().reset_index(name='count')"
   ]
  },
  {
   "cell_type": "code",
   "execution_count": null,
   "id": "f1db43bf-204b-4c5f-b2e4-618c4b35b38f",
   "metadata": {},
   "outputs": [],
   "source": [
    "\n",
    "# df['make'] = df['make'].str.replace('UNIVERSAL UNIVERSAL STINSON', 'UNIVERSAL STINSON', regex=True, case=False)\n",
    "\n",
    "df['make'] = df['make'].str.replace('Stinson', 'UNIVERSAL STINSON', regex=True, case=False)\n",
    "\n",
    "# df['make'] = df['make'].str.replace('UNIVERSAL UNIVERSAL STINSON', 'UNIVERSAL STINSON', regex=True, case=False)\n",
    "\n",
    "\n"
   ]
  },
  {
   "cell_type": "code",
   "execution_count": null,
   "id": "a29bee63-6bb0-4052-9f93-c0de82ff070e",
   "metadata": {
    "scrolled": true
   },
   "outputs": [],
   "source": [
    "grouped_df[grouped_df['engine_type'] == 'Electric']"
   ]
  },
  {
   "cell_type": "code",
   "execution_count": null,
   "id": "849356ca-3a02-49aa-9bb9-b5727b767f2d",
   "metadata": {},
   "outputs": [],
   "source": [
    "grouped_df[grouped_df['engine_type'] == 'Turbo Fan']"
   ]
  },
  {
   "cell_type": "code",
   "execution_count": 11,
   "id": "ac7b3e2c-0325-4830-a974-05000a0dba80",
   "metadata": {},
   "outputs": [
    {
     "ename": "NameError",
     "evalue": "name 'grouped_df' is not defined",
     "output_type": "error",
     "traceback": [
      "\u001b[0;31m---------------------------------------------------------------------------\u001b[0m",
      "\u001b[0;31mNameError\u001b[0m                                 Traceback (most recent call last)",
      "Cell \u001b[0;32mIn[11], line 1\u001b[0m\n\u001b[0;32m----> 1\u001b[0m \u001b[43mgrouped_df\u001b[49m\u001b[38;5;241m.\u001b[39mhead(\u001b[38;5;241m50\u001b[39m)\n",
      "\u001b[0;31mNameError\u001b[0m: name 'grouped_df' is not defined"
     ]
    }
   ],
   "source": [
    "grouped_df.head(50)"
   ]
  },
  {
   "cell_type": "code",
   "execution_count": null,
   "id": "fb10ad12-fa49-4b7d-87a3-cbb849ad7ca8",
   "metadata": {},
   "outputs": [],
   "source": [
    "unique_models = df['engine_type'].unique()\n",
    "list(unique_models)"
   ]
  },
  {
   "cell_type": "code",
   "execution_count": 12,
   "id": "c76aaf63-5cbb-4857-8952-c2f002ea0f44",
   "metadata": {},
   "outputs": [
    {
     "data": {
      "text/plain": [
       "purpose_of_flight\n",
       "Personal                     14460\n",
       "Unknown                       5145\n",
       "Instructional                 3363\n",
       "Aerial Application            1179\n",
       "Business                       713\n",
       "Positioning                    532\n",
       "Other Work Use                 283\n",
       "Aerial Observation             217\n",
       "Flight Test                    167\n",
       "Ferry                          144\n",
       "Executive/corporate            139\n",
       "Skydiving                      135\n",
       "Public Aircraft                109\n",
       "Banner Tow                     101\n",
       "Public Aircraft - Federal       74\n",
       "Air Race show                   49\n",
       "Glider Tow                      42\n",
       "Public Aircraft - State         33\n",
       "Air Race/show                   25\n",
       "Firefighting                    23\n",
       "Public Aircraft - Local         20\n",
       "External Load                   18\n",
       "ASHO                             5\n",
       "Air Drop                         4\n",
       "PUBS                             3\n",
       "Name: count, dtype: int64"
      ]
     },
     "execution_count": 12,
     "metadata": {},
     "output_type": "execute_result"
    }
   ],
   "source": [
    "df['purpose_of_flight'].value_counts()"
   ]
  },
  {
   "cell_type": "code",
   "execution_count": 13,
   "id": "311e2b5c-dab9-414a-92a8-d232e87ea31c",
   "metadata": {},
   "outputs": [],
   "source": [
    "df['purpose_of_flight'] = df['purpose_of_flight'].str.replace('Air Race show','Air Race Show').str.replace('Air Race/show','Air Race Show')"
   ]
  },
  {
   "cell_type": "code",
   "execution_count": 14,
   "id": "2dde469a-b7dd-4e14-9501-61d881e0648f",
   "metadata": {},
   "outputs": [],
   "source": [
    "df = df[~(df['purpose_of_flight'] =='Instructional')]"
   ]
  },
  {
   "cell_type": "code",
   "execution_count": 15,
   "id": "af5e7d11-22d8-487e-81a4-9449831615d7",
   "metadata": {},
   "outputs": [
    {
     "name": "stderr",
     "output_type": "stream",
     "text": [
      "/var/folders/0k/vkk0n9xx3zd6b7k7s4cdg07h0000gn/T/ipykernel_19802/960499334.py:1: SettingWithCopyWarning: \n",
      "A value is trying to be set on a copy of a slice from a DataFrame.\n",
      "Try using .loc[row_indexer,col_indexer] = value instead\n",
      "\n",
      "See the caveats in the documentation: https://pandas.pydata.org/pandas-docs/stable/user_guide/indexing.html#returning-a-view-versus-a-copy\n",
      "  df['purpose_of_flight'] = df['purpose_of_flight'].str.replace('Public Aircraft - Federal','Public Aircraft ').str.replace('Public Aircraft - Local','Public Aircraft').str.replace('Public Aircraft - State','Public Aircraft')\n"
     ]
    }
   ],
   "source": [
    "df['purpose_of_flight'] = df['purpose_of_flight'].str.replace('Public Aircraft - Federal','Public Aircraft ').str.replace('Public Aircraft - Local','Public Aircraft').str.replace('Public Aircraft - State','Public Aircraft')"
   ]
  },
  {
   "cell_type": "code",
   "execution_count": 16,
   "id": "f35856ab-e47d-4a84-8053-9daa66058ade",
   "metadata": {},
   "outputs": [
    {
     "data": {
      "text/plain": [
       "purpose_of_flight\n",
       "Personal               14460\n",
       "Unknown                 5145\n",
       "Aerial Application      1179\n",
       "Business                 713\n",
       "Positioning              532\n",
       "Other Work Use           283\n",
       "Aerial Observation       217\n",
       "Flight Test              167\n",
       "Public Aircraft          162\n",
       "Ferry                    144\n",
       "Executive/corporate      139\n",
       "Skydiving                135\n",
       "Banner Tow               101\n",
       "Air Race Show             74\n",
       "Public Aircraft           74\n",
       "Glider Tow                42\n",
       "Firefighting              23\n",
       "External Load             18\n",
       "ASHO                       5\n",
       "Air Drop                   4\n",
       "PUBS                       3\n",
       "Name: count, dtype: int64"
      ]
     },
     "execution_count": 16,
     "metadata": {},
     "output_type": "execute_result"
    }
   ],
   "source": [
    "df['purpose_of_flight'].value_counts()"
   ]
  },
  {
   "cell_type": "code",
   "execution_count": 17,
   "id": "b9dd5aa3-32dc-4abc-8bbb-f26372736b38",
   "metadata": {},
   "outputs": [
    {
     "data": {
      "text/plain": [
       "21"
      ]
     },
     "execution_count": 17,
     "metadata": {},
     "output_type": "execute_result"
    }
   ],
   "source": [
    "len(df['purpose_of_flight'].value_counts())"
   ]
  },
  {
   "cell_type": "code",
   "execution_count": 18,
   "id": "7d577fd5-3e8a-41a4-9093-c8b8eef01a0f",
   "metadata": {},
   "outputs": [
    {
     "data": {
      "text/html": [
       "<div>\n",
       "<style scoped>\n",
       "    .dataframe tbody tr th:only-of-type {\n",
       "        vertical-align: middle;\n",
       "    }\n",
       "\n",
       "    .dataframe tbody tr th {\n",
       "        vertical-align: top;\n",
       "    }\n",
       "\n",
       "    .dataframe thead th {\n",
       "        text-align: right;\n",
       "    }\n",
       "</style>\n",
       "<table border=\"1\" class=\"dataframe\">\n",
       "  <thead>\n",
       "    <tr style=\"text-align: right;\">\n",
       "      <th></th>\n",
       "      <th>Unnamed: 0</th>\n",
       "      <th>investigation_type</th>\n",
       "      <th>location</th>\n",
       "      <th>country</th>\n",
       "      <th>injury_severity</th>\n",
       "      <th>aircraft_damage</th>\n",
       "      <th>aircraft_category</th>\n",
       "      <th>make</th>\n",
       "      <th>model</th>\n",
       "      <th>number_of_engines</th>\n",
       "      <th>engine_type</th>\n",
       "      <th>purpose_of_flight</th>\n",
       "      <th>total_fatal_injuries</th>\n",
       "      <th>total_serious_injuries</th>\n",
       "      <th>total_minor_injuries</th>\n",
       "      <th>total_uninjured</th>\n",
       "      <th>weather_condition</th>\n",
       "      <th>broad_phase_of_flight</th>\n",
       "      <th>year</th>\n",
       "      <th>state</th>\n",
       "    </tr>\n",
       "  </thead>\n",
       "  <tbody>\n",
       "    <tr>\n",
       "      <th>0</th>\n",
       "      <td>0</td>\n",
       "      <td>Accident</td>\n",
       "      <td>TUCSON, AZ</td>\n",
       "      <td>United States</td>\n",
       "      <td>fatal</td>\n",
       "      <td>Destroyed</td>\n",
       "      <td>Unknown</td>\n",
       "      <td>Beech</td>\n",
       "      <td>95</td>\n",
       "      <td>2</td>\n",
       "      <td>Reciprocating</td>\n",
       "      <td>Personal</td>\n",
       "      <td>1</td>\n",
       "      <td>3</td>\n",
       "      <td>0</td>\n",
       "      <td>0</td>\n",
       "      <td>VMC</td>\n",
       "      <td>Takeoff</td>\n",
       "      <td>2003</td>\n",
       "      <td>AZ</td>\n",
       "    </tr>\n",
       "    <tr>\n",
       "      <th>2</th>\n",
       "      <td>2</td>\n",
       "      <td>Accident</td>\n",
       "      <td>IDAHO FALLS, ID</td>\n",
       "      <td>United States</td>\n",
       "      <td>non-fatal</td>\n",
       "      <td>Substantial</td>\n",
       "      <td>Unknown</td>\n",
       "      <td>Bell</td>\n",
       "      <td>47G</td>\n",
       "      <td>1</td>\n",
       "      <td>Turbo Shaft</td>\n",
       "      <td>Other Work Use</td>\n",
       "      <td>0</td>\n",
       "      <td>0</td>\n",
       "      <td>0</td>\n",
       "      <td>1</td>\n",
       "      <td>VMC</td>\n",
       "      <td>Cruise</td>\n",
       "      <td>2003</td>\n",
       "      <td>ID</td>\n",
       "    </tr>\n",
       "    <tr>\n",
       "      <th>3</th>\n",
       "      <td>3</td>\n",
       "      <td>Accident</td>\n",
       "      <td>NEW PORT RICHEY, FL</td>\n",
       "      <td>United States</td>\n",
       "      <td>non-fatal</td>\n",
       "      <td>Substantial</td>\n",
       "      <td>Unknown</td>\n",
       "      <td>Hughes</td>\n",
       "      <td>Oh6</td>\n",
       "      <td>1</td>\n",
       "      <td>Turbo Shaft</td>\n",
       "      <td>Public Aircraft</td>\n",
       "      <td>0</td>\n",
       "      <td>0</td>\n",
       "      <td>0</td>\n",
       "      <td>2</td>\n",
       "      <td>VMC</td>\n",
       "      <td>Takeoff</td>\n",
       "      <td>2003</td>\n",
       "      <td>FL</td>\n",
       "    </tr>\n",
       "    <tr>\n",
       "      <th>4</th>\n",
       "      <td>4</td>\n",
       "      <td>Accident</td>\n",
       "      <td>Shreveport, LA</td>\n",
       "      <td>United States</td>\n",
       "      <td>fatal</td>\n",
       "      <td>Destroyed</td>\n",
       "      <td>Unknown</td>\n",
       "      <td>Grumman American</td>\n",
       "      <td>Aa1A</td>\n",
       "      <td>1</td>\n",
       "      <td>Reciprocating</td>\n",
       "      <td>Personal</td>\n",
       "      <td>2</td>\n",
       "      <td>0</td>\n",
       "      <td>0</td>\n",
       "      <td>0</td>\n",
       "      <td>VMC</td>\n",
       "      <td>Takeoff</td>\n",
       "      <td>2003</td>\n",
       "      <td>LA</td>\n",
       "    </tr>\n",
       "    <tr>\n",
       "      <th>5</th>\n",
       "      <td>5</td>\n",
       "      <td>Accident</td>\n",
       "      <td>JESSUP, GA</td>\n",
       "      <td>United States</td>\n",
       "      <td>non-fatal</td>\n",
       "      <td>Substantial</td>\n",
       "      <td>Unknown</td>\n",
       "      <td>Cessna</td>\n",
       "      <td>150K</td>\n",
       "      <td>1</td>\n",
       "      <td>Reciprocating</td>\n",
       "      <td>Personal</td>\n",
       "      <td>0</td>\n",
       "      <td>0</td>\n",
       "      <td>0</td>\n",
       "      <td>1</td>\n",
       "      <td>VMC</td>\n",
       "      <td>Cruise</td>\n",
       "      <td>2003</td>\n",
       "      <td>GA</td>\n",
       "    </tr>\n",
       "    <tr>\n",
       "      <th>...</th>\n",
       "      <td>...</td>\n",
       "      <td>...</td>\n",
       "      <td>...</td>\n",
       "      <td>...</td>\n",
       "      <td>...</td>\n",
       "      <td>...</td>\n",
       "      <td>...</td>\n",
       "      <td>...</td>\n",
       "      <td>...</td>\n",
       "      <td>...</td>\n",
       "      <td>...</td>\n",
       "      <td>...</td>\n",
       "      <td>...</td>\n",
       "      <td>...</td>\n",
       "      <td>...</td>\n",
       "      <td>...</td>\n",
       "      <td>...</td>\n",
       "      <td>...</td>\n",
       "      <td>...</td>\n",
       "      <td>...</td>\n",
       "    </tr>\n",
       "    <tr>\n",
       "      <th>26975</th>\n",
       "      <td>26975</td>\n",
       "      <td>Accident</td>\n",
       "      <td>Auburn Hills, MI</td>\n",
       "      <td>United States</td>\n",
       "      <td>non-fatal</td>\n",
       "      <td>Unknown</td>\n",
       "      <td>Unknown</td>\n",
       "      <td>Cessna</td>\n",
       "      <td>172F</td>\n",
       "      <td>0</td>\n",
       "      <td>Unknown</td>\n",
       "      <td>Personal</td>\n",
       "      <td>0</td>\n",
       "      <td>1</td>\n",
       "      <td>0</td>\n",
       "      <td>0</td>\n",
       "      <td>Unknown</td>\n",
       "      <td>Unknown</td>\n",
       "      <td>2022</td>\n",
       "      <td>MI</td>\n",
       "    </tr>\n",
       "    <tr>\n",
       "      <th>26978</th>\n",
       "      <td>26978</td>\n",
       "      <td>Accident</td>\n",
       "      <td>Annapolis, MD</td>\n",
       "      <td>United States</td>\n",
       "      <td>non-fatal</td>\n",
       "      <td>Unknown</td>\n",
       "      <td>Unknown</td>\n",
       "      <td>Piper</td>\n",
       "      <td>Pa28151</td>\n",
       "      <td>0</td>\n",
       "      <td>Unknown</td>\n",
       "      <td>Personal</td>\n",
       "      <td>0</td>\n",
       "      <td>1</td>\n",
       "      <td>0</td>\n",
       "      <td>0</td>\n",
       "      <td>Unknown</td>\n",
       "      <td>Unknown</td>\n",
       "      <td>2022</td>\n",
       "      <td>MD</td>\n",
       "    </tr>\n",
       "    <tr>\n",
       "      <th>26980</th>\n",
       "      <td>26980</td>\n",
       "      <td>Accident</td>\n",
       "      <td>Payson, AZ</td>\n",
       "      <td>United States</td>\n",
       "      <td>non-fatal</td>\n",
       "      <td>Substantial</td>\n",
       "      <td>Airplane</td>\n",
       "      <td>American Champion Aircraft</td>\n",
       "      <td>8Gcbc</td>\n",
       "      <td>1</td>\n",
       "      <td>Unknown</td>\n",
       "      <td>Personal</td>\n",
       "      <td>0</td>\n",
       "      <td>0</td>\n",
       "      <td>0</td>\n",
       "      <td>1</td>\n",
       "      <td>VMC</td>\n",
       "      <td>Unknown</td>\n",
       "      <td>2022</td>\n",
       "      <td>AZ</td>\n",
       "    </tr>\n",
       "    <tr>\n",
       "      <th>26981</th>\n",
       "      <td>26981</td>\n",
       "      <td>Accident</td>\n",
       "      <td>Morgan, UT</td>\n",
       "      <td>United States</td>\n",
       "      <td>non-fatal</td>\n",
       "      <td>Unknown</td>\n",
       "      <td>Unknown</td>\n",
       "      <td>Cessna</td>\n",
       "      <td>210N</td>\n",
       "      <td>0</td>\n",
       "      <td>Unknown</td>\n",
       "      <td>Personal</td>\n",
       "      <td>0</td>\n",
       "      <td>0</td>\n",
       "      <td>0</td>\n",
       "      <td>0</td>\n",
       "      <td>Unknown</td>\n",
       "      <td>Unknown</td>\n",
       "      <td>2022</td>\n",
       "      <td>UT</td>\n",
       "    </tr>\n",
       "    <tr>\n",
       "      <th>26982</th>\n",
       "      <td>26982</td>\n",
       "      <td>Accident</td>\n",
       "      <td>Athens, GA</td>\n",
       "      <td>United States</td>\n",
       "      <td>non-fatal</td>\n",
       "      <td>Unknown</td>\n",
       "      <td>Unknown</td>\n",
       "      <td>Piper</td>\n",
       "      <td>Pa24260</td>\n",
       "      <td>0</td>\n",
       "      <td>Unknown</td>\n",
       "      <td>Personal</td>\n",
       "      <td>0</td>\n",
       "      <td>1</td>\n",
       "      <td>0</td>\n",
       "      <td>1</td>\n",
       "      <td>Unknown</td>\n",
       "      <td>Unknown</td>\n",
       "      <td>2022</td>\n",
       "      <td>GA</td>\n",
       "    </tr>\n",
       "  </tbody>\n",
       "</table>\n",
       "<p>18475 rows × 20 columns</p>\n",
       "</div>"
      ],
      "text/plain": [
       "       Unnamed: 0 investigation_type             location        country  \\\n",
       "0               0           Accident           TUCSON, AZ  United States   \n",
       "2               2           Accident      IDAHO FALLS, ID  United States   \n",
       "3               3           Accident  NEW PORT RICHEY, FL  United States   \n",
       "4               4           Accident       Shreveport, LA  United States   \n",
       "5               5           Accident           JESSUP, GA  United States   \n",
       "...           ...                ...                  ...            ...   \n",
       "26975       26975           Accident     Auburn Hills, MI  United States   \n",
       "26978       26978           Accident        Annapolis, MD  United States   \n",
       "26980       26980           Accident           Payson, AZ  United States   \n",
       "26981       26981           Accident           Morgan, UT  United States   \n",
       "26982       26982           Accident           Athens, GA  United States   \n",
       "\n",
       "      injury_severity aircraft_damage aircraft_category  \\\n",
       "0               fatal       Destroyed           Unknown   \n",
       "2           non-fatal     Substantial           Unknown   \n",
       "3           non-fatal     Substantial           Unknown   \n",
       "4               fatal       Destroyed           Unknown   \n",
       "5           non-fatal     Substantial           Unknown   \n",
       "...               ...             ...               ...   \n",
       "26975       non-fatal         Unknown           Unknown   \n",
       "26978       non-fatal         Unknown           Unknown   \n",
       "26980       non-fatal     Substantial          Airplane   \n",
       "26981       non-fatal         Unknown           Unknown   \n",
       "26982       non-fatal         Unknown           Unknown   \n",
       "\n",
       "                             make    model  number_of_engines    engine_type  \\\n",
       "0                           Beech       95                  2  Reciprocating   \n",
       "2                            Bell      47G                  1    Turbo Shaft   \n",
       "3                          Hughes      Oh6                  1    Turbo Shaft   \n",
       "4                Grumman American     Aa1A                  1  Reciprocating   \n",
       "5                          Cessna     150K                  1  Reciprocating   \n",
       "...                           ...      ...                ...            ...   \n",
       "26975                      Cessna     172F                  0        Unknown   \n",
       "26978                       Piper  Pa28151                  0        Unknown   \n",
       "26980  American Champion Aircraft    8Gcbc                  1        Unknown   \n",
       "26981                      Cessna     210N                  0        Unknown   \n",
       "26982                       Piper  Pa24260                  0        Unknown   \n",
       "\n",
       "      purpose_of_flight  total_fatal_injuries  total_serious_injuries  \\\n",
       "0              Personal                     1                       3   \n",
       "2        Other Work Use                     0                       0   \n",
       "3       Public Aircraft                     0                       0   \n",
       "4              Personal                     2                       0   \n",
       "5              Personal                     0                       0   \n",
       "...                 ...                   ...                     ...   \n",
       "26975          Personal                     0                       1   \n",
       "26978          Personal                     0                       1   \n",
       "26980          Personal                     0                       0   \n",
       "26981          Personal                     0                       0   \n",
       "26982          Personal                     0                       1   \n",
       "\n",
       "       total_minor_injuries  total_uninjured weather_condition  \\\n",
       "0                         0                0               VMC   \n",
       "2                         0                1               VMC   \n",
       "3                         0                2               VMC   \n",
       "4                         0                0               VMC   \n",
       "5                         0                1               VMC   \n",
       "...                     ...              ...               ...   \n",
       "26975                     0                0           Unknown   \n",
       "26978                     0                0           Unknown   \n",
       "26980                     0                1               VMC   \n",
       "26981                     0                0           Unknown   \n",
       "26982                     0                1           Unknown   \n",
       "\n",
       "      broad_phase_of_flight  year state  \n",
       "0                   Takeoff  2003    AZ  \n",
       "2                    Cruise  2003    ID  \n",
       "3                   Takeoff  2003    FL  \n",
       "4                   Takeoff  2003    LA  \n",
       "5                    Cruise  2003    GA  \n",
       "...                     ...   ...   ...  \n",
       "26975               Unknown  2022    MI  \n",
       "26978               Unknown  2022    MD  \n",
       "26980               Unknown  2022    AZ  \n",
       "26981               Unknown  2022    UT  \n",
       "26982               Unknown  2022    GA  \n",
       "\n",
       "[18475 rows x 20 columns]"
      ]
     },
     "execution_count": 18,
     "metadata": {},
     "output_type": "execute_result"
    }
   ],
   "source": [
    "df = df[df['purpose_of_flight'] != 'Unknown']\n",
    "df"
   ]
  },
  {
   "cell_type": "code",
   "execution_count": 19,
   "id": "ca184d38-71ed-4b95-affa-8e77839baa52",
   "metadata": {},
   "outputs": [
    {
     "data": {
      "text/plain": [
       "0"
      ]
     },
     "execution_count": 19,
     "metadata": {},
     "output_type": "execute_result"
    }
   ],
   "source": [
    "df.duplicated().sum()"
   ]
  },
  {
   "cell_type": "code",
   "execution_count": 20,
   "id": "01fe8a83-dd40-4aef-98a7-64a4eb967035",
   "metadata": {},
   "outputs": [
    {
     "data": {
      "text/plain": [
       "country\n",
       "United States       17720\n",
       "Brazil                 86\n",
       "Mexico                 53\n",
       "Canada                 51\n",
       "France                 44\n",
       "                    ...  \n",
       "Czech Republic          1\n",
       "Macao                   1\n",
       "Saint Barthelemy        1\n",
       "Thailand                1\n",
       "Cuba                    1\n",
       "Name: count, Length: 97, dtype: int64"
      ]
     },
     "execution_count": 20,
     "metadata": {},
     "output_type": "execute_result"
    }
   ],
   "source": [
    "df['country'].value_counts()"
   ]
  },
  {
   "cell_type": "code",
   "execution_count": 21,
   "id": "cc93a078-6b6f-4c52-a5b0-a846165bc4a7",
   "metadata": {},
   "outputs": [
    {
     "ename": "KeyError",
     "evalue": "'event_date'",
     "output_type": "error",
     "traceback": [
      "\u001b[0;31m---------------------------------------------------------------------------\u001b[0m",
      "\u001b[0;31mKeyError\u001b[0m                                  Traceback (most recent call last)",
      "File \u001b[0;32m~/anaconda3/envs/learn-env/lib/python3.9/site-packages/pandas/core/indexes/base.py:3653\u001b[0m, in \u001b[0;36mIndex.get_loc\u001b[0;34m(self, key)\u001b[0m\n\u001b[1;32m   3652\u001b[0m \u001b[38;5;28;01mtry\u001b[39;00m:\n\u001b[0;32m-> 3653\u001b[0m     \u001b[38;5;28;01mreturn\u001b[39;00m \u001b[38;5;28;43mself\u001b[39;49m\u001b[38;5;241;43m.\u001b[39;49m\u001b[43m_engine\u001b[49m\u001b[38;5;241;43m.\u001b[39;49m\u001b[43mget_loc\u001b[49m\u001b[43m(\u001b[49m\u001b[43mcasted_key\u001b[49m\u001b[43m)\u001b[49m\n\u001b[1;32m   3654\u001b[0m \u001b[38;5;28;01mexcept\u001b[39;00m \u001b[38;5;167;01mKeyError\u001b[39;00m \u001b[38;5;28;01mas\u001b[39;00m err:\n",
      "File \u001b[0;32m~/anaconda3/envs/learn-env/lib/python3.9/site-packages/pandas/_libs/index.pyx:147\u001b[0m, in \u001b[0;36mpandas._libs.index.IndexEngine.get_loc\u001b[0;34m()\u001b[0m\n",
      "File \u001b[0;32m~/anaconda3/envs/learn-env/lib/python3.9/site-packages/pandas/_libs/index.pyx:176\u001b[0m, in \u001b[0;36mpandas._libs.index.IndexEngine.get_loc\u001b[0;34m()\u001b[0m\n",
      "File \u001b[0;32mpandas/_libs/hashtable_class_helper.pxi:7080\u001b[0m, in \u001b[0;36mpandas._libs.hashtable.PyObjectHashTable.get_item\u001b[0;34m()\u001b[0m\n",
      "File \u001b[0;32mpandas/_libs/hashtable_class_helper.pxi:7088\u001b[0m, in \u001b[0;36mpandas._libs.hashtable.PyObjectHashTable.get_item\u001b[0;34m()\u001b[0m\n",
      "\u001b[0;31mKeyError\u001b[0m: 'event_date'",
      "\nThe above exception was the direct cause of the following exception:\n",
      "\u001b[0;31mKeyError\u001b[0m                                  Traceback (most recent call last)",
      "Cell \u001b[0;32mIn[21], line 4\u001b[0m\n\u001b[1;32m      1\u001b[0m \u001b[38;5;66;03m#rate of incidents in 1982 and 2022 respectively \u001b[39;00m\n\u001b[1;32m      2\u001b[0m accidents_df \u001b[38;5;241m=\u001b[39m df[df[\u001b[38;5;124m'\u001b[39m\u001b[38;5;124minvestigation_type\u001b[39m\u001b[38;5;124m'\u001b[39m] \u001b[38;5;241m==\u001b[39m \u001b[38;5;124m'\u001b[39m\u001b[38;5;124maccident\u001b[39m\u001b[38;5;124m'\u001b[39m]\n\u001b[0;32m----> 4\u001b[0m accidents_1982 \u001b[38;5;241m=\u001b[39m \u001b[38;5;28mlen\u001b[39m(accidents_df[(\u001b[43maccidents_df\u001b[49m\u001b[43m[\u001b[49m\u001b[38;5;124;43m'\u001b[39;49m\u001b[38;5;124;43mevent_date\u001b[39;49m\u001b[38;5;124;43m'\u001b[39;49m\u001b[43m]\u001b[49m \u001b[38;5;241m>\u001b[39m\u001b[38;5;241m=\u001b[39m \u001b[38;5;124m'\u001b[39m\u001b[38;5;124m1982-01-01\u001b[39m\u001b[38;5;124m'\u001b[39m) \u001b[38;5;241m&\u001b[39m (accidents_df[\u001b[38;5;124m'\u001b[39m\u001b[38;5;124mevent_date\u001b[39m\u001b[38;5;124m'\u001b[39m] \u001b[38;5;241m<\u001b[39m\u001b[38;5;241m=\u001b[39m \u001b[38;5;124m'\u001b[39m\u001b[38;5;124m1982-12-31\u001b[39m\u001b[38;5;124m'\u001b[39m)])\n\u001b[1;32m      6\u001b[0m accidents_2022 \u001b[38;5;241m=\u001b[39m \u001b[38;5;28mlen\u001b[39m(accidents_df[(accidents_df[\u001b[38;5;124m'\u001b[39m\u001b[38;5;124mevent_date\u001b[39m\u001b[38;5;124m'\u001b[39m] \u001b[38;5;241m>\u001b[39m\u001b[38;5;241m=\u001b[39m \u001b[38;5;124m'\u001b[39m\u001b[38;5;124m2022-01-01\u001b[39m\u001b[38;5;124m'\u001b[39m) \u001b[38;5;241m&\u001b[39m (accidents_df[\u001b[38;5;124m'\u001b[39m\u001b[38;5;124mevent_date\u001b[39m\u001b[38;5;124m'\u001b[39m] \u001b[38;5;241m<\u001b[39m\u001b[38;5;241m=\u001b[39m \u001b[38;5;124m'\u001b[39m\u001b[38;5;124m2022-12-31\u001b[39m\u001b[38;5;124m'\u001b[39m)])\n\u001b[1;32m      8\u001b[0m days_1982 \u001b[38;5;241m=\u001b[39m (pd\u001b[38;5;241m.\u001b[39mto_datetime(\u001b[38;5;124m'\u001b[39m\u001b[38;5;124m1983-01-01\u001b[39m\u001b[38;5;124m'\u001b[39m) \u001b[38;5;241m-\u001b[39m pd\u001b[38;5;241m.\u001b[39mto_datetime(\u001b[38;5;124m'\u001b[39m\u001b[38;5;124m1982-01-01\u001b[39m\u001b[38;5;124m'\u001b[39m))\u001b[38;5;241m.\u001b[39mdays\n",
      "File \u001b[0;32m~/anaconda3/envs/learn-env/lib/python3.9/site-packages/pandas/core/frame.py:3761\u001b[0m, in \u001b[0;36mDataFrame.__getitem__\u001b[0;34m(self, key)\u001b[0m\n\u001b[1;32m   3759\u001b[0m \u001b[38;5;28;01mif\u001b[39;00m \u001b[38;5;28mself\u001b[39m\u001b[38;5;241m.\u001b[39mcolumns\u001b[38;5;241m.\u001b[39mnlevels \u001b[38;5;241m>\u001b[39m \u001b[38;5;241m1\u001b[39m:\n\u001b[1;32m   3760\u001b[0m     \u001b[38;5;28;01mreturn\u001b[39;00m \u001b[38;5;28mself\u001b[39m\u001b[38;5;241m.\u001b[39m_getitem_multilevel(key)\n\u001b[0;32m-> 3761\u001b[0m indexer \u001b[38;5;241m=\u001b[39m \u001b[38;5;28;43mself\u001b[39;49m\u001b[38;5;241;43m.\u001b[39;49m\u001b[43mcolumns\u001b[49m\u001b[38;5;241;43m.\u001b[39;49m\u001b[43mget_loc\u001b[49m\u001b[43m(\u001b[49m\u001b[43mkey\u001b[49m\u001b[43m)\u001b[49m\n\u001b[1;32m   3762\u001b[0m \u001b[38;5;28;01mif\u001b[39;00m is_integer(indexer):\n\u001b[1;32m   3763\u001b[0m     indexer \u001b[38;5;241m=\u001b[39m [indexer]\n",
      "File \u001b[0;32m~/anaconda3/envs/learn-env/lib/python3.9/site-packages/pandas/core/indexes/base.py:3655\u001b[0m, in \u001b[0;36mIndex.get_loc\u001b[0;34m(self, key)\u001b[0m\n\u001b[1;32m   3653\u001b[0m     \u001b[38;5;28;01mreturn\u001b[39;00m \u001b[38;5;28mself\u001b[39m\u001b[38;5;241m.\u001b[39m_engine\u001b[38;5;241m.\u001b[39mget_loc(casted_key)\n\u001b[1;32m   3654\u001b[0m \u001b[38;5;28;01mexcept\u001b[39;00m \u001b[38;5;167;01mKeyError\u001b[39;00m \u001b[38;5;28;01mas\u001b[39;00m err:\n\u001b[0;32m-> 3655\u001b[0m     \u001b[38;5;28;01mraise\u001b[39;00m \u001b[38;5;167;01mKeyError\u001b[39;00m(key) \u001b[38;5;28;01mfrom\u001b[39;00m \u001b[38;5;21;01merr\u001b[39;00m\n\u001b[1;32m   3656\u001b[0m \u001b[38;5;28;01mexcept\u001b[39;00m \u001b[38;5;167;01mTypeError\u001b[39;00m:\n\u001b[1;32m   3657\u001b[0m     \u001b[38;5;66;03m# If we have a listlike key, _check_indexing_error will raise\u001b[39;00m\n\u001b[1;32m   3658\u001b[0m     \u001b[38;5;66;03m#  InvalidIndexError. Otherwise we fall through and re-raise\u001b[39;00m\n\u001b[1;32m   3659\u001b[0m     \u001b[38;5;66;03m#  the TypeError.\u001b[39;00m\n\u001b[1;32m   3660\u001b[0m     \u001b[38;5;28mself\u001b[39m\u001b[38;5;241m.\u001b[39m_check_indexing_error(key)\n",
      "\u001b[0;31mKeyError\u001b[0m: 'event_date'"
     ]
    }
   ],
   "source": [
    "#rate of incidents in 1982 and 2022 respectively \n",
    "accidents_df = df[df['investigation_type'] == 'accident']\n",
    "\n",
    "accidents_1982 = len(accidents_df[(accidents_df['event_date'] >= '1982-01-01') & (accidents_df['event_date'] <= '1982-12-31')])\n",
    "\n",
    "accidents_2022 = len(accidents_df[(accidents_df['event_date'] >= '2022-01-01') & (accidents_df['event_date'] <= '2022-12-31')])\n",
    "\n",
    "days_1982 = (pd.to_datetime('1983-01-01') - pd.to_datetime('1982-01-01')).days\n",
    "rate_1982 = accidents_1982 / days_1982\n",
    "\n",
    "days_2022 = (pd.to_datetime('2023-01-01') - pd.to_datetime('2022-01-01')).days\n",
    "rate_2022 = accidents_2022 / days_2022\n",
    "\n",
    "print(rate_1982)\n",
    "print(rate_2022)"
   ]
  },
  {
   "cell_type": "code",
   "execution_count": 22,
   "id": "27468aa3-7bb0-4238-98df-c0c5c6be1596",
   "metadata": {},
   "outputs": [
    {
     "data": {
      "text/html": [
       "<div>\n",
       "<style scoped>\n",
       "    .dataframe tbody tr th:only-of-type {\n",
       "        vertical-align: middle;\n",
       "    }\n",
       "\n",
       "    .dataframe tbody tr th {\n",
       "        vertical-align: top;\n",
       "    }\n",
       "\n",
       "    .dataframe thead th {\n",
       "        text-align: right;\n",
       "    }\n",
       "</style>\n",
       "<table border=\"1\" class=\"dataframe\">\n",
       "  <thead>\n",
       "    <tr style=\"text-align: right;\">\n",
       "      <th></th>\n",
       "      <th>Unnamed: 0</th>\n",
       "      <th>investigation_type</th>\n",
       "      <th>location</th>\n",
       "      <th>country</th>\n",
       "      <th>injury_severity</th>\n",
       "      <th>aircraft_damage</th>\n",
       "      <th>aircraft_category</th>\n",
       "      <th>make</th>\n",
       "      <th>model</th>\n",
       "      <th>number_of_engines</th>\n",
       "      <th>engine_type</th>\n",
       "      <th>purpose_of_flight</th>\n",
       "      <th>total_fatal_injuries</th>\n",
       "      <th>total_serious_injuries</th>\n",
       "      <th>total_minor_injuries</th>\n",
       "      <th>total_uninjured</th>\n",
       "      <th>weather_condition</th>\n",
       "      <th>broad_phase_of_flight</th>\n",
       "      <th>year</th>\n",
       "      <th>state</th>\n",
       "    </tr>\n",
       "  </thead>\n",
       "  <tbody>\n",
       "    <tr>\n",
       "      <th>0</th>\n",
       "      <td>0</td>\n",
       "      <td>Accident</td>\n",
       "      <td>TUCSON, AZ</td>\n",
       "      <td>United States</td>\n",
       "      <td>fatal</td>\n",
       "      <td>Destroyed</td>\n",
       "      <td>Unknown</td>\n",
       "      <td>Beech</td>\n",
       "      <td>95</td>\n",
       "      <td>2</td>\n",
       "      <td>Reciprocating</td>\n",
       "      <td>Personal</td>\n",
       "      <td>1</td>\n",
       "      <td>3</td>\n",
       "      <td>0</td>\n",
       "      <td>0</td>\n",
       "      <td>VMC</td>\n",
       "      <td>Takeoff</td>\n",
       "      <td>2003</td>\n",
       "      <td>AZ</td>\n",
       "    </tr>\n",
       "    <tr>\n",
       "      <th>2</th>\n",
       "      <td>2</td>\n",
       "      <td>Accident</td>\n",
       "      <td>IDAHO FALLS, ID</td>\n",
       "      <td>United States</td>\n",
       "      <td>non-fatal</td>\n",
       "      <td>Substantial</td>\n",
       "      <td>Unknown</td>\n",
       "      <td>Bell</td>\n",
       "      <td>47G</td>\n",
       "      <td>1</td>\n",
       "      <td>Turbo Shaft</td>\n",
       "      <td>Other Work Use</td>\n",
       "      <td>0</td>\n",
       "      <td>0</td>\n",
       "      <td>0</td>\n",
       "      <td>1</td>\n",
       "      <td>VMC</td>\n",
       "      <td>Cruise</td>\n",
       "      <td>2003</td>\n",
       "      <td>ID</td>\n",
       "    </tr>\n",
       "    <tr>\n",
       "      <th>3</th>\n",
       "      <td>3</td>\n",
       "      <td>Accident</td>\n",
       "      <td>NEW PORT RICHEY, FL</td>\n",
       "      <td>United States</td>\n",
       "      <td>non-fatal</td>\n",
       "      <td>Substantial</td>\n",
       "      <td>Unknown</td>\n",
       "      <td>Hughes</td>\n",
       "      <td>Oh6</td>\n",
       "      <td>1</td>\n",
       "      <td>Turbo Shaft</td>\n",
       "      <td>Public Aircraft</td>\n",
       "      <td>0</td>\n",
       "      <td>0</td>\n",
       "      <td>0</td>\n",
       "      <td>2</td>\n",
       "      <td>VMC</td>\n",
       "      <td>Takeoff</td>\n",
       "      <td>2003</td>\n",
       "      <td>FL</td>\n",
       "    </tr>\n",
       "    <tr>\n",
       "      <th>4</th>\n",
       "      <td>4</td>\n",
       "      <td>Accident</td>\n",
       "      <td>Shreveport, LA</td>\n",
       "      <td>United States</td>\n",
       "      <td>fatal</td>\n",
       "      <td>Destroyed</td>\n",
       "      <td>Unknown</td>\n",
       "      <td>Grumman American</td>\n",
       "      <td>Aa1A</td>\n",
       "      <td>1</td>\n",
       "      <td>Reciprocating</td>\n",
       "      <td>Personal</td>\n",
       "      <td>2</td>\n",
       "      <td>0</td>\n",
       "      <td>0</td>\n",
       "      <td>0</td>\n",
       "      <td>VMC</td>\n",
       "      <td>Takeoff</td>\n",
       "      <td>2003</td>\n",
       "      <td>LA</td>\n",
       "    </tr>\n",
       "    <tr>\n",
       "      <th>5</th>\n",
       "      <td>5</td>\n",
       "      <td>Accident</td>\n",
       "      <td>JESSUP, GA</td>\n",
       "      <td>United States</td>\n",
       "      <td>non-fatal</td>\n",
       "      <td>Substantial</td>\n",
       "      <td>Unknown</td>\n",
       "      <td>Cessna</td>\n",
       "      <td>150K</td>\n",
       "      <td>1</td>\n",
       "      <td>Reciprocating</td>\n",
       "      <td>Personal</td>\n",
       "      <td>0</td>\n",
       "      <td>0</td>\n",
       "      <td>0</td>\n",
       "      <td>1</td>\n",
       "      <td>VMC</td>\n",
       "      <td>Cruise</td>\n",
       "      <td>2003</td>\n",
       "      <td>GA</td>\n",
       "    </tr>\n",
       "    <tr>\n",
       "      <th>...</th>\n",
       "      <td>...</td>\n",
       "      <td>...</td>\n",
       "      <td>...</td>\n",
       "      <td>...</td>\n",
       "      <td>...</td>\n",
       "      <td>...</td>\n",
       "      <td>...</td>\n",
       "      <td>...</td>\n",
       "      <td>...</td>\n",
       "      <td>...</td>\n",
       "      <td>...</td>\n",
       "      <td>...</td>\n",
       "      <td>...</td>\n",
       "      <td>...</td>\n",
       "      <td>...</td>\n",
       "      <td>...</td>\n",
       "      <td>...</td>\n",
       "      <td>...</td>\n",
       "      <td>...</td>\n",
       "      <td>...</td>\n",
       "    </tr>\n",
       "    <tr>\n",
       "      <th>26975</th>\n",
       "      <td>26975</td>\n",
       "      <td>Accident</td>\n",
       "      <td>Auburn Hills, MI</td>\n",
       "      <td>United States</td>\n",
       "      <td>non-fatal</td>\n",
       "      <td>Unknown</td>\n",
       "      <td>Unknown</td>\n",
       "      <td>Cessna</td>\n",
       "      <td>172F</td>\n",
       "      <td>0</td>\n",
       "      <td>Unknown</td>\n",
       "      <td>Personal</td>\n",
       "      <td>0</td>\n",
       "      <td>1</td>\n",
       "      <td>0</td>\n",
       "      <td>0</td>\n",
       "      <td>Unknown</td>\n",
       "      <td>Unknown</td>\n",
       "      <td>2022</td>\n",
       "      <td>MI</td>\n",
       "    </tr>\n",
       "    <tr>\n",
       "      <th>26978</th>\n",
       "      <td>26978</td>\n",
       "      <td>Accident</td>\n",
       "      <td>Annapolis, MD</td>\n",
       "      <td>United States</td>\n",
       "      <td>non-fatal</td>\n",
       "      <td>Unknown</td>\n",
       "      <td>Unknown</td>\n",
       "      <td>Piper</td>\n",
       "      <td>Pa28151</td>\n",
       "      <td>0</td>\n",
       "      <td>Unknown</td>\n",
       "      <td>Personal</td>\n",
       "      <td>0</td>\n",
       "      <td>1</td>\n",
       "      <td>0</td>\n",
       "      <td>0</td>\n",
       "      <td>Unknown</td>\n",
       "      <td>Unknown</td>\n",
       "      <td>2022</td>\n",
       "      <td>MD</td>\n",
       "    </tr>\n",
       "    <tr>\n",
       "      <th>26980</th>\n",
       "      <td>26980</td>\n",
       "      <td>Accident</td>\n",
       "      <td>Payson, AZ</td>\n",
       "      <td>United States</td>\n",
       "      <td>non-fatal</td>\n",
       "      <td>Substantial</td>\n",
       "      <td>Airplane</td>\n",
       "      <td>American Champion Aircraft</td>\n",
       "      <td>8Gcbc</td>\n",
       "      <td>1</td>\n",
       "      <td>Unknown</td>\n",
       "      <td>Personal</td>\n",
       "      <td>0</td>\n",
       "      <td>0</td>\n",
       "      <td>0</td>\n",
       "      <td>1</td>\n",
       "      <td>VMC</td>\n",
       "      <td>Unknown</td>\n",
       "      <td>2022</td>\n",
       "      <td>AZ</td>\n",
       "    </tr>\n",
       "    <tr>\n",
       "      <th>26981</th>\n",
       "      <td>26981</td>\n",
       "      <td>Accident</td>\n",
       "      <td>Morgan, UT</td>\n",
       "      <td>United States</td>\n",
       "      <td>non-fatal</td>\n",
       "      <td>Unknown</td>\n",
       "      <td>Unknown</td>\n",
       "      <td>Cessna</td>\n",
       "      <td>210N</td>\n",
       "      <td>0</td>\n",
       "      <td>Unknown</td>\n",
       "      <td>Personal</td>\n",
       "      <td>0</td>\n",
       "      <td>0</td>\n",
       "      <td>0</td>\n",
       "      <td>0</td>\n",
       "      <td>Unknown</td>\n",
       "      <td>Unknown</td>\n",
       "      <td>2022</td>\n",
       "      <td>UT</td>\n",
       "    </tr>\n",
       "    <tr>\n",
       "      <th>26982</th>\n",
       "      <td>26982</td>\n",
       "      <td>Accident</td>\n",
       "      <td>Athens, GA</td>\n",
       "      <td>United States</td>\n",
       "      <td>non-fatal</td>\n",
       "      <td>Unknown</td>\n",
       "      <td>Unknown</td>\n",
       "      <td>Piper</td>\n",
       "      <td>Pa24260</td>\n",
       "      <td>0</td>\n",
       "      <td>Unknown</td>\n",
       "      <td>Personal</td>\n",
       "      <td>0</td>\n",
       "      <td>1</td>\n",
       "      <td>0</td>\n",
       "      <td>1</td>\n",
       "      <td>Unknown</td>\n",
       "      <td>Unknown</td>\n",
       "      <td>2022</td>\n",
       "      <td>GA</td>\n",
       "    </tr>\n",
       "  </tbody>\n",
       "</table>\n",
       "<p>18475 rows × 20 columns</p>\n",
       "</div>"
      ],
      "text/plain": [
       "       Unnamed: 0 investigation_type             location        country  \\\n",
       "0               0           Accident           TUCSON, AZ  United States   \n",
       "2               2           Accident      IDAHO FALLS, ID  United States   \n",
       "3               3           Accident  NEW PORT RICHEY, FL  United States   \n",
       "4               4           Accident       Shreveport, LA  United States   \n",
       "5               5           Accident           JESSUP, GA  United States   \n",
       "...           ...                ...                  ...            ...   \n",
       "26975       26975           Accident     Auburn Hills, MI  United States   \n",
       "26978       26978           Accident        Annapolis, MD  United States   \n",
       "26980       26980           Accident           Payson, AZ  United States   \n",
       "26981       26981           Accident           Morgan, UT  United States   \n",
       "26982       26982           Accident           Athens, GA  United States   \n",
       "\n",
       "      injury_severity aircraft_damage aircraft_category  \\\n",
       "0               fatal       Destroyed           Unknown   \n",
       "2           non-fatal     Substantial           Unknown   \n",
       "3           non-fatal     Substantial           Unknown   \n",
       "4               fatal       Destroyed           Unknown   \n",
       "5           non-fatal     Substantial           Unknown   \n",
       "...               ...             ...               ...   \n",
       "26975       non-fatal         Unknown           Unknown   \n",
       "26978       non-fatal         Unknown           Unknown   \n",
       "26980       non-fatal     Substantial          Airplane   \n",
       "26981       non-fatal         Unknown           Unknown   \n",
       "26982       non-fatal         Unknown           Unknown   \n",
       "\n",
       "                             make    model  number_of_engines    engine_type  \\\n",
       "0                           Beech       95                  2  Reciprocating   \n",
       "2                            Bell      47G                  1    Turbo Shaft   \n",
       "3                          Hughes      Oh6                  1    Turbo Shaft   \n",
       "4                Grumman American     Aa1A                  1  Reciprocating   \n",
       "5                          Cessna     150K                  1  Reciprocating   \n",
       "...                           ...      ...                ...            ...   \n",
       "26975                      Cessna     172F                  0        Unknown   \n",
       "26978                       Piper  Pa28151                  0        Unknown   \n",
       "26980  American Champion Aircraft    8Gcbc                  1        Unknown   \n",
       "26981                      Cessna     210N                  0        Unknown   \n",
       "26982                       Piper  Pa24260                  0        Unknown   \n",
       "\n",
       "      purpose_of_flight  total_fatal_injuries  total_serious_injuries  \\\n",
       "0              Personal                     1                       3   \n",
       "2        Other Work Use                     0                       0   \n",
       "3       Public Aircraft                     0                       0   \n",
       "4              Personal                     2                       0   \n",
       "5              Personal                     0                       0   \n",
       "...                 ...                   ...                     ...   \n",
       "26975          Personal                     0                       1   \n",
       "26978          Personal                     0                       1   \n",
       "26980          Personal                     0                       0   \n",
       "26981          Personal                     0                       0   \n",
       "26982          Personal                     0                       1   \n",
       "\n",
       "       total_minor_injuries  total_uninjured weather_condition  \\\n",
       "0                         0                0               VMC   \n",
       "2                         0                1               VMC   \n",
       "3                         0                2               VMC   \n",
       "4                         0                0               VMC   \n",
       "5                         0                1               VMC   \n",
       "...                     ...              ...               ...   \n",
       "26975                     0                0           Unknown   \n",
       "26978                     0                0           Unknown   \n",
       "26980                     0                1               VMC   \n",
       "26981                     0                0           Unknown   \n",
       "26982                     0                1           Unknown   \n",
       "\n",
       "      broad_phase_of_flight  year state  \n",
       "0                   Takeoff  2003    AZ  \n",
       "2                    Cruise  2003    ID  \n",
       "3                   Takeoff  2003    FL  \n",
       "4                   Takeoff  2003    LA  \n",
       "5                    Cruise  2003    GA  \n",
       "...                     ...   ...   ...  \n",
       "26975               Unknown  2022    MI  \n",
       "26978               Unknown  2022    MD  \n",
       "26980               Unknown  2022    AZ  \n",
       "26981               Unknown  2022    UT  \n",
       "26982               Unknown  2022    GA  \n",
       "\n",
       "[18475 rows x 20 columns]"
      ]
     },
     "execution_count": 22,
     "metadata": {},
     "output_type": "execute_result"
    }
   ],
   "source": [
    "df.to_csv('cleaned_data.csv', index=False)\n",
    "df"
   ]
  },
  {
   "cell_type": "code",
   "execution_count": 23,
   "id": "763a79f9-9ff0-4ac9-8c6c-799106332fbc",
   "metadata": {},
   "outputs": [],
   "source": [
    "df = df.dropna(subset=['location'])\n",
    "df = df.reset_index(drop = True)"
   ]
  },
  {
   "cell_type": "code",
   "execution_count": 24,
   "id": "6ba4541e-eaba-4378-8907-a9fd31a08485",
   "metadata": {},
   "outputs": [
    {
     "data": {
      "text/plain": [
       "0"
      ]
     },
     "execution_count": 24,
     "metadata": {},
     "output_type": "execute_result"
    }
   ],
   "source": [
    "df.duplicated().sum()"
   ]
  },
  {
   "cell_type": "code",
   "execution_count": 25,
   "id": "1920b3fb-2785-4196-af2d-76439bc03d9f",
   "metadata": {},
   "outputs": [
    {
     "name": "stdout",
     "output_type": "stream",
     "text": [
      "<class 'pandas.core.frame.DataFrame'>\n",
      "RangeIndex: 18475 entries, 0 to 18474\n",
      "Data columns (total 20 columns):\n",
      " #   Column                  Non-Null Count  Dtype \n",
      "---  ------                  --------------  ----- \n",
      " 0   Unnamed: 0              18475 non-null  int64 \n",
      " 1   investigation_type      18475 non-null  object\n",
      " 2   location                18475 non-null  object\n",
      " 3   country                 18475 non-null  object\n",
      " 4   injury_severity         18475 non-null  object\n",
      " 5   aircraft_damage         18475 non-null  object\n",
      " 6   aircraft_category       18475 non-null  object\n",
      " 7   make                    18475 non-null  object\n",
      " 8   model                   18475 non-null  object\n",
      " 9   number_of_engines       18475 non-null  int64 \n",
      " 10  engine_type             18475 non-null  object\n",
      " 11  purpose_of_flight       18475 non-null  object\n",
      " 12  total_fatal_injuries    18475 non-null  int64 \n",
      " 13  total_serious_injuries  18475 non-null  int64 \n",
      " 14  total_minor_injuries    18475 non-null  int64 \n",
      " 15  total_uninjured         18475 non-null  int64 \n",
      " 16  weather_condition       18475 non-null  object\n",
      " 17  broad_phase_of_flight   18475 non-null  object\n",
      " 18  year                    18475 non-null  int64 \n",
      " 19  state                   18474 non-null  object\n",
      "dtypes: int64(7), object(13)\n",
      "memory usage: 2.8+ MB\n"
     ]
    }
   ],
   "source": [
    "df.info()"
   ]
  },
  {
   "cell_type": "code",
   "execution_count": 26,
   "id": "11c67d4d-d5d7-4efa-babe-ad1480100f67",
   "metadata": {},
   "outputs": [
    {
     "data": {
      "text/plain": [
       "0        False\n",
       "1        False\n",
       "2        False\n",
       "3        False\n",
       "4        False\n",
       "         ...  \n",
       "18470    False\n",
       "18471    False\n",
       "18472    False\n",
       "18473    False\n",
       "18474    False\n",
       "Name: investigation_type, Length: 18475, dtype: bool"
      ]
     },
     "execution_count": 26,
     "metadata": {},
     "output_type": "execute_result"
    }
   ],
   "source": [
    "df['investigation_type'] == 'accident'"
   ]
  },
  {
   "cell_type": "code",
   "execution_count": 27,
   "id": "7fa80a7b-68e2-454c-937e-739687a69d2f",
   "metadata": {
    "scrolled": true
   },
   "outputs": [
    {
     "name": "stdout",
     "output_type": "stream",
     "text": [
      "<class 'pandas.core.frame.DataFrame'>\n",
      "RangeIndex: 18475 entries, 0 to 18474\n",
      "Data columns (total 20 columns):\n",
      " #   Column                  Non-Null Count  Dtype \n",
      "---  ------                  --------------  ----- \n",
      " 0   Unnamed: 0              18475 non-null  int64 \n",
      " 1   investigation_type      18475 non-null  object\n",
      " 2   location                18475 non-null  object\n",
      " 3   country                 18475 non-null  object\n",
      " 4   injury_severity         18475 non-null  object\n",
      " 5   aircraft_damage         18475 non-null  object\n",
      " 6   aircraft_category       18475 non-null  object\n",
      " 7   make                    18475 non-null  object\n",
      " 8   model                   18475 non-null  object\n",
      " 9   number_of_engines       18475 non-null  int64 \n",
      " 10  engine_type             18475 non-null  object\n",
      " 11  purpose_of_flight       18475 non-null  object\n",
      " 12  total_fatal_injuries    18475 non-null  int64 \n",
      " 13  total_serious_injuries  18475 non-null  int64 \n",
      " 14  total_minor_injuries    18475 non-null  int64 \n",
      " 15  total_uninjured         18475 non-null  int64 \n",
      " 16  weather_condition       18475 non-null  object\n",
      " 17  broad_phase_of_flight   18475 non-null  object\n",
      " 18  year                    18475 non-null  int64 \n",
      " 19  state                   18474 non-null  object\n",
      "dtypes: int64(7), object(13)\n",
      "memory usage: 2.8+ MB\n"
     ]
    }
   ],
   "source": [
    "df.info()"
   ]
  },
  {
   "cell_type": "code",
   "execution_count": 28,
   "id": "b1a084a5-190c-4edf-a854-47e5a375197e",
   "metadata": {
    "scrolled": true
   },
   "outputs": [
    {
     "ename": "KeyError",
     "evalue": "'report_status'",
     "output_type": "error",
     "traceback": [
      "\u001b[0;31m---------------------------------------------------------------------------\u001b[0m",
      "\u001b[0;31mKeyError\u001b[0m                                  Traceback (most recent call last)",
      "File \u001b[0;32m~/anaconda3/envs/learn-env/lib/python3.9/site-packages/pandas/core/indexes/base.py:3653\u001b[0m, in \u001b[0;36mIndex.get_loc\u001b[0;34m(self, key)\u001b[0m\n\u001b[1;32m   3652\u001b[0m \u001b[38;5;28;01mtry\u001b[39;00m:\n\u001b[0;32m-> 3653\u001b[0m     \u001b[38;5;28;01mreturn\u001b[39;00m \u001b[38;5;28;43mself\u001b[39;49m\u001b[38;5;241;43m.\u001b[39;49m\u001b[43m_engine\u001b[49m\u001b[38;5;241;43m.\u001b[39;49m\u001b[43mget_loc\u001b[49m\u001b[43m(\u001b[49m\u001b[43mcasted_key\u001b[49m\u001b[43m)\u001b[49m\n\u001b[1;32m   3654\u001b[0m \u001b[38;5;28;01mexcept\u001b[39;00m \u001b[38;5;167;01mKeyError\u001b[39;00m \u001b[38;5;28;01mas\u001b[39;00m err:\n",
      "File \u001b[0;32m~/anaconda3/envs/learn-env/lib/python3.9/site-packages/pandas/_libs/index.pyx:147\u001b[0m, in \u001b[0;36mpandas._libs.index.IndexEngine.get_loc\u001b[0;34m()\u001b[0m\n",
      "File \u001b[0;32m~/anaconda3/envs/learn-env/lib/python3.9/site-packages/pandas/_libs/index.pyx:176\u001b[0m, in \u001b[0;36mpandas._libs.index.IndexEngine.get_loc\u001b[0;34m()\u001b[0m\n",
      "File \u001b[0;32mpandas/_libs/hashtable_class_helper.pxi:7080\u001b[0m, in \u001b[0;36mpandas._libs.hashtable.PyObjectHashTable.get_item\u001b[0;34m()\u001b[0m\n",
      "File \u001b[0;32mpandas/_libs/hashtable_class_helper.pxi:7088\u001b[0m, in \u001b[0;36mpandas._libs.hashtable.PyObjectHashTable.get_item\u001b[0;34m()\u001b[0m\n",
      "\u001b[0;31mKeyError\u001b[0m: 'report_status'",
      "\nThe above exception was the direct cause of the following exception:\n",
      "\u001b[0;31mKeyError\u001b[0m                                  Traceback (most recent call last)",
      "Cell \u001b[0;32mIn[28], line 1\u001b[0m\n\u001b[0;32m----> 1\u001b[0m \u001b[43mdf\u001b[49m\u001b[43m[\u001b[49m\u001b[38;5;124;43m'\u001b[39;49m\u001b[38;5;124;43mreport_status\u001b[39;49m\u001b[38;5;124;43m'\u001b[39;49m\u001b[43m]\u001b[49m\u001b[38;5;241m.\u001b[39munique()\n",
      "File \u001b[0;32m~/anaconda3/envs/learn-env/lib/python3.9/site-packages/pandas/core/frame.py:3761\u001b[0m, in \u001b[0;36mDataFrame.__getitem__\u001b[0;34m(self, key)\u001b[0m\n\u001b[1;32m   3759\u001b[0m \u001b[38;5;28;01mif\u001b[39;00m \u001b[38;5;28mself\u001b[39m\u001b[38;5;241m.\u001b[39mcolumns\u001b[38;5;241m.\u001b[39mnlevels \u001b[38;5;241m>\u001b[39m \u001b[38;5;241m1\u001b[39m:\n\u001b[1;32m   3760\u001b[0m     \u001b[38;5;28;01mreturn\u001b[39;00m \u001b[38;5;28mself\u001b[39m\u001b[38;5;241m.\u001b[39m_getitem_multilevel(key)\n\u001b[0;32m-> 3761\u001b[0m indexer \u001b[38;5;241m=\u001b[39m \u001b[38;5;28;43mself\u001b[39;49m\u001b[38;5;241;43m.\u001b[39;49m\u001b[43mcolumns\u001b[49m\u001b[38;5;241;43m.\u001b[39;49m\u001b[43mget_loc\u001b[49m\u001b[43m(\u001b[49m\u001b[43mkey\u001b[49m\u001b[43m)\u001b[49m\n\u001b[1;32m   3762\u001b[0m \u001b[38;5;28;01mif\u001b[39;00m is_integer(indexer):\n\u001b[1;32m   3763\u001b[0m     indexer \u001b[38;5;241m=\u001b[39m [indexer]\n",
      "File \u001b[0;32m~/anaconda3/envs/learn-env/lib/python3.9/site-packages/pandas/core/indexes/base.py:3655\u001b[0m, in \u001b[0;36mIndex.get_loc\u001b[0;34m(self, key)\u001b[0m\n\u001b[1;32m   3653\u001b[0m     \u001b[38;5;28;01mreturn\u001b[39;00m \u001b[38;5;28mself\u001b[39m\u001b[38;5;241m.\u001b[39m_engine\u001b[38;5;241m.\u001b[39mget_loc(casted_key)\n\u001b[1;32m   3654\u001b[0m \u001b[38;5;28;01mexcept\u001b[39;00m \u001b[38;5;167;01mKeyError\u001b[39;00m \u001b[38;5;28;01mas\u001b[39;00m err:\n\u001b[0;32m-> 3655\u001b[0m     \u001b[38;5;28;01mraise\u001b[39;00m \u001b[38;5;167;01mKeyError\u001b[39;00m(key) \u001b[38;5;28;01mfrom\u001b[39;00m \u001b[38;5;21;01merr\u001b[39;00m\n\u001b[1;32m   3656\u001b[0m \u001b[38;5;28;01mexcept\u001b[39;00m \u001b[38;5;167;01mTypeError\u001b[39;00m:\n\u001b[1;32m   3657\u001b[0m     \u001b[38;5;66;03m# If we have a listlike key, _check_indexing_error will raise\u001b[39;00m\n\u001b[1;32m   3658\u001b[0m     \u001b[38;5;66;03m#  InvalidIndexError. Otherwise we fall through and re-raise\u001b[39;00m\n\u001b[1;32m   3659\u001b[0m     \u001b[38;5;66;03m#  the TypeError.\u001b[39;00m\n\u001b[1;32m   3660\u001b[0m     \u001b[38;5;28mself\u001b[39m\u001b[38;5;241m.\u001b[39m_check_indexing_error(key)\n",
      "\u001b[0;31mKeyError\u001b[0m: 'report_status'"
     ]
    }
   ],
   "source": [
    "df['report_status'].unique()"
   ]
  },
  {
   "cell_type": "code",
   "execution_count": null,
   "id": "aaa1e662-64e3-4e94-a717-38ac27741cbb",
   "metadata": {},
   "outputs": [],
   "source": [
    "df['number_of_engines'] = df['number_of_engines'].replace('Unknown',0)"
   ]
  },
  {
   "cell_type": "code",
   "execution_count": null,
   "id": "6e2dde59-1934-4485-ab40-a962f1f59fc0",
   "metadata": {},
   "outputs": [],
   "source": [
    "df['purpose_of_flight'].value_counts()"
   ]
  },
  {
   "cell_type": "code",
   "execution_count": null,
   "id": "c10688df-f275-433f-a762-aaffd156cc79",
   "metadata": {},
   "outputs": [],
   "source": [
    "df['engine_type'].value_counts()"
   ]
  },
  {
   "cell_type": "code",
   "execution_count": null,
   "id": "b9a276f9-0c20-4055-9fcb-9f920ec1f2ce",
   "metadata": {},
   "outputs": [],
   "source": [
    "df['city'] = df['location'].str.split(',').str[0]\n",
    "df['state'] = df['location'].str.split(',').str[1]\n",
    "df[['city', 'state']].head(10)"
   ]
  },
  {
   "cell_type": "code",
   "execution_count": null,
   "id": "0c687c4d-53b3-46c3-9744-b6215ff45f45",
   "metadata": {},
   "outputs": [],
   "source": [
    "grouped_cities = df.groupby('city')\n",
    "grouped_cities"
   ]
  },
  {
   "cell_type": "code",
   "execution_count": null,
   "id": "9f87fe06-b72a-43f4-bff1-c617023140cb",
   "metadata": {},
   "outputs": [],
   "source": [
    "city_counts = grouped_cities.size()\n",
    "city_counts.value_counts()"
   ]
  },
  {
   "cell_type": "code",
   "execution_count": null,
   "id": "30ccacec-2aa6-437a-894c-ba3f2a35288d",
   "metadata": {},
   "outputs": [],
   "source": [
    "table = df.loc[(df['investigation_type'] == 'accident') & (df['report_status'] == 'The pilotÂ\\x92s loss of control due to a wind gust during landing.')]\n",
    "print(table)"
   ]
  },
  {
   "cell_type": "code",
   "execution_count": null,
   "id": "cf841898-6c8b-4bbf-9a39-3edf839cd1a2",
   "metadata": {},
   "outputs": [],
   "source": [
    "print(\"Unique investigation types:\", df['investigation_type'].unique())\n",
    "print(\"Unique report statuses:\", df['report_status'].unique())\n",
    "print(\"Unique weather conditions:\", df['weather_condition'].unique())"
   ]
  },
  {
   "cell_type": "markdown",
   "id": "8d16301c-c0ee-4905-85d3-5b10585abac8",
   "metadata": {},
   "source": [
    "Focusing on these catagories to find the safest aircraft "
   ]
  },
  {
   "cell_type": "code",
   "execution_count": null,
   "id": "6a85b76d-cefd-4642-aa5e-accd3ce74a3a",
   "metadata": {
    "scrolled": true
   },
   "outputs": [],
   "source": [
    "data = df\n",
    "data = data[['make','model','engine_type','aircraft_damage','purpose_of_flights','air_carrier','total_fatal_injuries','total_serious_injuries','total_minor_injuries','broad_phase_of_flight','year']]\n",
    "data.info()"
   ]
  },
  {
   "cell_type": "code",
   "execution_count": null,
   "id": "0a794a60-f0a6-4afc-9a27-15bcd5762fda",
   "metadata": {},
   "outputs": [],
   "source": [
    "df['air_carrier'].unique()"
   ]
  },
  {
   "cell_type": "code",
   "execution_count": 29,
   "id": "45fd5d85-b1f3-4b08-887f-a940d3742261",
   "metadata": {},
   "outputs": [
    {
     "ename": "NameError",
     "evalue": "name 'data' is not defined",
     "output_type": "error",
     "traceback": [
      "\u001b[0;31m---------------------------------------------------------------------------\u001b[0m",
      "\u001b[0;31mNameError\u001b[0m                                 Traceback (most recent call last)",
      "Cell \u001b[0;32mIn[29], line 1\u001b[0m\n\u001b[0;32m----> 1\u001b[0m grouped_data \u001b[38;5;241m=\u001b[39m \u001b[43mdata\u001b[49m\u001b[38;5;241m.\u001b[39mgroupby([\u001b[38;5;124m'\u001b[39m\u001b[38;5;124mmake\u001b[39m\u001b[38;5;124m'\u001b[39m, \u001b[38;5;124m'\u001b[39m\u001b[38;5;124mengine_type\u001b[39m\u001b[38;5;124m'\u001b[39m])\n\u001b[1;32m      3\u001b[0m \u001b[38;5;28;01mfor\u001b[39;00m (make, engine_type), group \u001b[38;5;129;01min\u001b[39;00m grouped_data:\n\u001b[1;32m      4\u001b[0m     unique_engine_types \u001b[38;5;241m=\u001b[39m group[\u001b[38;5;124m'\u001b[39m\u001b[38;5;124mengine_type\u001b[39m\u001b[38;5;124m'\u001b[39m]\u001b[38;5;241m.\u001b[39munique()\n",
      "\u001b[0;31mNameError\u001b[0m: name 'data' is not defined"
     ]
    }
   ],
   "source": [
    "\n",
    "grouped_data = data.groupby(['make', 'engine_type'])\n",
    "\n",
    "for (make, engine_type), group in grouped_data:\n",
    "    unique_engine_types = group['engine_type'].unique()\n",
    "    print(\"Make:\", make)\n",
    "    print(\"Unique Engine Types:\", unique_engine_types)\n",
    "    print()"
   ]
  },
  {
   "cell_type": "code",
   "execution_count": 30,
   "id": "4d2be86f-15b6-4eda-a945-a80b6ef85523",
   "metadata": {},
   "outputs": [
    {
     "ename": "NameError",
     "evalue": "name 'data' is not defined",
     "output_type": "error",
     "traceback": [
      "\u001b[0;31m---------------------------------------------------------------------------\u001b[0m",
      "\u001b[0;31mNameError\u001b[0m                                 Traceback (most recent call last)",
      "Cell \u001b[0;32mIn[30], line 1\u001b[0m\n\u001b[0;32m----> 1\u001b[0m grouped_data \u001b[38;5;241m=\u001b[39m \u001b[43mdata\u001b[49m\u001b[38;5;241m.\u001b[39mgroupby(\u001b[38;5;124m'\u001b[39m\u001b[38;5;124mmake\u001b[39m\u001b[38;5;124m'\u001b[39m)\u001b[38;5;241m.\u001b[39msize()\u001b[38;5;241m.\u001b[39mreset_index(name\u001b[38;5;241m=\u001b[39m\u001b[38;5;124m'\u001b[39m\u001b[38;5;124maverage_accidents\u001b[39m\u001b[38;5;124m'\u001b[39m)\n\u001b[1;32m      2\u001b[0m grouped_data\n",
      "\u001b[0;31mNameError\u001b[0m: name 'data' is not defined"
     ]
    }
   ],
   "source": [
    "grouped_data = data.groupby('make').size().reset_index(name='average_accidents')\n",
    "grouped_data"
   ]
  },
  {
   "cell_type": "code",
   "execution_count": null,
   "id": "aac892d0-30f2-41d7-9736-5660c50191de",
   "metadata": {},
   "outputs": [],
   "source": [
    "total_aircraft = data['make'].value_counts().reset_index()\n",
    "total_aircraft.columns = ['make','total_aircraft']"
   ]
  },
  {
   "cell_type": "code",
   "execution_count": 31,
   "id": "e493d4e2-ac04-4932-b3a9-e4ff7e678241",
   "metadata": {},
   "outputs": [
    {
     "ename": "NameError",
     "evalue": "name 'grouped_data' is not defined",
     "output_type": "error",
     "traceback": [
      "\u001b[0;31m---------------------------------------------------------------------------\u001b[0m",
      "\u001b[0;31mNameError\u001b[0m                                 Traceback (most recent call last)",
      "Cell \u001b[0;32mIn[31], line 1\u001b[0m\n\u001b[0;32m----> 1\u001b[0m merged_data \u001b[38;5;241m=\u001b[39m pd\u001b[38;5;241m.\u001b[39mmerge(\u001b[43mgrouped_data\u001b[49m, total_aircraft, on\u001b[38;5;241m=\u001b[39m\u001b[38;5;124m'\u001b[39m\u001b[38;5;124mmake\u001b[39m\u001b[38;5;124m'\u001b[39m)\n\u001b[1;32m      2\u001b[0m merged_data\n",
      "\u001b[0;31mNameError\u001b[0m: name 'grouped_data' is not defined"
     ]
    }
   ],
   "source": [
    "merged_data = pd.merge(grouped_data, total_aircraft, on='make')\n",
    "merged_data"
   ]
  },
  {
   "cell_type": "code",
   "execution_count": null,
   "id": "ded356e4-429c-40b6-939d-508a7d120052",
   "metadata": {},
   "outputs": [],
   "source": [
    "merged_data['risk_score'] = merged_data['average_accidents']/merged_data['total_aircraft']"
   ]
  },
  {
   "cell_type": "code",
   "execution_count": null,
   "id": "ddf7b985-c9c4-4e6f-8369-9c37f1fd21ad",
   "metadata": {},
   "outputs": [],
   "source": [
    "sorted_data = merged_data.sort_values('risk_score')\n",
    "print(sorted_data[['make','risk_score']])"
   ]
  },
  {
   "cell_type": "code",
   "execution_count": 32,
   "id": "865d06ce-23de-4a25-a51f-813f60cedebf",
   "metadata": {},
   "outputs": [
    {
     "ename": "NameError",
     "evalue": "name 'sorted_data' is not defined",
     "output_type": "error",
     "traceback": [
      "\u001b[0;31m---------------------------------------------------------------------------\u001b[0m",
      "\u001b[0;31mNameError\u001b[0m                                 Traceback (most recent call last)",
      "Cell \u001b[0;32mIn[32], line 1\u001b[0m\n\u001b[0;32m----> 1\u001b[0m most_frequent_make \u001b[38;5;241m=\u001b[39m \u001b[43msorted_data\u001b[49m[\u001b[38;5;124m'\u001b[39m\u001b[38;5;124mmake\u001b[39m\u001b[38;5;124m'\u001b[39m]\u001b[38;5;241m.\u001b[39mmode()\u001b[38;5;241m.\u001b[39mvalues[:\u001b[38;5;241m10\u001b[39m]\n\u001b[1;32m      2\u001b[0m most_frequent_make\n",
      "\u001b[0;31mNameError\u001b[0m: name 'sorted_data' is not defined"
     ]
    }
   ],
   "source": [
    "most_frequent_make = sorted_data['make'].mode().values[:10]\n",
    "most_frequent_make"
   ]
  },
  {
   "cell_type": "code",
   "execution_count": null,
   "id": "138ed8ff-b61c-4438-9b47-bb714cf31c6a",
   "metadata": {},
   "outputs": [],
   "source": [
    "\n",
    "frequent_makes = ['177Mf Llc', '2021Fx3 Llc', 'Ab Sportine Aviacija', 'Adams','Adams Balloon', 'Adams Dennis Allen', 'Adventura',\n",
    "       'Aerial Productions Intl. Inc.', 'Aermacchi', 'Aero Adventure']  # Replace with the most frequent make(s) you obtained earlier\n",
    "filtered_data = sorted_data[sorted_data['make'].isin(frequent_makes)]\n",
    "\n",
    "risk_scores = filtered_data['risk_score']\n",
    "\n",
    "print(\"Risk Score(s) for Frequent Makes:\")\n",
    "for make, risk_score in zip(frequent_makes, risk_scores):\n",
    "    print(make, \":\", risk_score)\n"
   ]
  },
  {
   "cell_type": "code",
   "execution_count": 33,
   "id": "f4242d5d-2f73-460b-a193-09135af7603d",
   "metadata": {},
   "outputs": [
    {
     "ename": "NameError",
     "evalue": "name 'sorted_data' is not defined",
     "output_type": "error",
     "traceback": [
      "\u001b[0;31m---------------------------------------------------------------------------\u001b[0m",
      "\u001b[0;31mNameError\u001b[0m                                 Traceback (most recent call last)",
      "Cell \u001b[0;32mIn[33], line 1\u001b[0m\n\u001b[0;32m----> 1\u001b[0m zero_risk_makes \u001b[38;5;241m=\u001b[39m \u001b[43msorted_data\u001b[49m[sorted_data[\u001b[38;5;124m'\u001b[39m\u001b[38;5;124mrisk_score\u001b[39m\u001b[38;5;124m'\u001b[39m] \u001b[38;5;241m==\u001b[39m \u001b[38;5;241m0\u001b[39m][\u001b[38;5;124m'\u001b[39m\u001b[38;5;124mmake\u001b[39m\u001b[38;5;124m'\u001b[39m]\n\u001b[1;32m      2\u001b[0m \u001b[38;5;28;01mfor\u001b[39;00m make \u001b[38;5;129;01min\u001b[39;00m zero_risk_makes:\n\u001b[1;32m      3\u001b[0m     \u001b[38;5;28mprint\u001b[39m(make)\n",
      "\u001b[0;31mNameError\u001b[0m: name 'sorted_data' is not defined"
     ]
    }
   ],
   "source": [
    "zero_risk_makes = sorted_data[sorted_data['risk_score'] == 0]['make']\n",
    "for make in zero_risk_makes:\n",
    "    print(make)\n",
    "make"
   ]
  },
  {
   "cell_type": "code",
   "execution_count": null,
   "id": "3914f0fa-c18a-4b6a-9fc8-78994521dd82",
   "metadata": {},
   "outputs": [],
   "source": [
    "\n",
    "if len(zero_risk_makes) > 1:\n",
    "    print(\"There is more than one make with a risk score of 0.\")\n",
    "else:\n",
    "    print(\"There is only one make with a risk score of 0.\")"
   ]
  },
  {
   "cell_type": "code",
   "execution_count": 34,
   "id": "26a5c542-3a41-47cd-a0b1-e820e41cf23b",
   "metadata": {},
   "outputs": [
    {
     "ename": "NameError",
     "evalue": "name 'sorted_data' is not defined",
     "output_type": "error",
     "traceback": [
      "\u001b[0;31m---------------------------------------------------------------------------\u001b[0m",
      "\u001b[0;31mNameError\u001b[0m                                 Traceback (most recent call last)",
      "Cell \u001b[0;32mIn[34], line 1\u001b[0m\n\u001b[0;32m----> 1\u001b[0m high_risk_makes \u001b[38;5;241m=\u001b[39m \u001b[43msorted_data\u001b[49m[sorted_data[\u001b[38;5;124m'\u001b[39m\u001b[38;5;124mrisk_score\u001b[39m\u001b[38;5;124m'\u001b[39m]\u001b[38;5;241m>\u001b[39m\u001b[38;5;241m1\u001b[39m][\u001b[38;5;124m'\u001b[39m\u001b[38;5;124mmake\u001b[39m\u001b[38;5;124m'\u001b[39m]\n\u001b[1;32m      2\u001b[0m \u001b[38;5;28;01mfor\u001b[39;00m make \u001b[38;5;129;01min\u001b[39;00m high_risk_makes:\n\u001b[1;32m      3\u001b[0m     \u001b[38;5;28mprint\u001b[39m(make)\n",
      "\u001b[0;31mNameError\u001b[0m: name 'sorted_data' is not defined"
     ]
    }
   ],
   "source": [
    "high_risk_makes = sorted_data[sorted_data['risk_score']>1]['make']\n",
    "for make in high_risk_makes:\n",
    "    print(make)\n",
    "make"
   ]
  },
  {
   "cell_type": "code",
   "execution_count": 35,
   "id": "ac67c304-d6d5-4657-a95f-0d538d3c135e",
   "metadata": {},
   "outputs": [
    {
     "ename": "NameError",
     "evalue": "name 'data' is not defined",
     "output_type": "error",
     "traceback": [
      "\u001b[0;31m---------------------------------------------------------------------------\u001b[0m",
      "\u001b[0;31mNameError\u001b[0m                                 Traceback (most recent call last)",
      "Cell \u001b[0;32mIn[35], line 1\u001b[0m\n\u001b[0;32m----> 1\u001b[0m merged_data \u001b[38;5;241m=\u001b[39m \u001b[43mdata\u001b[49m\u001b[38;5;241m.\u001b[39mmerge(sorted_data[[\u001b[38;5;124m'\u001b[39m\u001b[38;5;124mmake\u001b[39m\u001b[38;5;124m'\u001b[39m,\u001b[38;5;124m'\u001b[39m\u001b[38;5;124mrisk_score\u001b[39m\u001b[38;5;124m'\u001b[39m]], on\u001b[38;5;241m=\u001b[39m\u001b[38;5;124m'\u001b[39m\u001b[38;5;124mmake\u001b[39m\u001b[38;5;124m'\u001b[39m,how\u001b[38;5;241m=\u001b[39m\u001b[38;5;124m'\u001b[39m\u001b[38;5;124mleft\u001b[39m\u001b[38;5;124m'\u001b[39m)\n\u001b[1;32m      2\u001b[0m merged_data\n",
      "\u001b[0;31mNameError\u001b[0m: name 'data' is not defined"
     ]
    }
   ],
   "source": [
    "merged_data = data.merge(sorted_data[['make','risk_score']], on='make',how='left')\n",
    "merged_data"
   ]
  },
  {
   "cell_type": "code",
   "execution_count": null,
   "id": "d849caf3-3eea-4fce-91bc-d3b25449cecf",
   "metadata": {
    "scrolled": true
   },
   "outputs": [],
   "source": [
    "merged_data.info()"
   ]
  },
  {
   "cell_type": "code",
   "execution_count": null,
   "id": "911fcf07-1147-4f88-aca7-28b5d4e22e1a",
   "metadata": {},
   "outputs": [],
   "source": [
    "list(merged_data['risk_score'].unique())"
   ]
  },
  {
   "cell_type": "code",
   "execution_count": null,
   "id": "4a2e5f0b-fc03-4608-bcd5-ab094582c6c5",
   "metadata": {},
   "outputs": [],
   "source": [
    "merged_data['risk_score'] = merged_data['risk_score'].astype(int)"
   ]
  },
  {
   "cell_type": "code",
   "execution_count": 36,
   "id": "ac4d5782-de05-447c-8b20-f64611e8c625",
   "metadata": {},
   "outputs": [
    {
     "ename": "NameError",
     "evalue": "name 'merged_data' is not defined",
     "output_type": "error",
     "traceback": [
      "\u001b[0;31m---------------------------------------------------------------------------\u001b[0m",
      "\u001b[0;31mNameError\u001b[0m                                 Traceback (most recent call last)",
      "Cell \u001b[0;32mIn[36], line 1\u001b[0m\n\u001b[0;32m----> 1\u001b[0m risk_score_3 \u001b[38;5;241m=\u001b[39m \u001b[43mmerged_data\u001b[49m[merged_data[\u001b[38;5;124m'\u001b[39m\u001b[38;5;124mrisk_score\u001b[39m\u001b[38;5;124m'\u001b[39m] \u001b[38;5;241m>\u001b[39m \u001b[38;5;241m3\u001b[39m]\n\u001b[1;32m      2\u001b[0m risk_score_3\n",
      "\u001b[0;31mNameError\u001b[0m: name 'merged_data' is not defined"
     ]
    }
   ],
   "source": [
    "risk_score_3 = merged_data[merged_data['risk_score'] > 3]\n",
    "risk_score_3"
   ]
  },
  {
   "cell_type": "code",
   "execution_count": null,
   "id": "215aae0e-4f5e-46e0-a6a2-25ae7da4ba33",
   "metadata": {
    "scrolled": true
   },
   "outputs": [],
   "source": [
    "merged_data['purpose_of_flights'].unique()"
   ]
  },
  {
   "cell_type": "code",
   "execution_count": null,
   "id": "990613c4-f49c-4c32-b933-11f192167c26",
   "metadata": {},
   "outputs": [],
   "source": [
    "carrier_make_data = merged_data.groupby('make')['air_carrier'].unique()\n",
    "\n",
    "# Define the desired purposes to include\n",
    "desired_purposes = ['Business', 'Personal', 'Other Work Use', 'Executive/corporate']\n",
    "\n",
    "for make, carriers in carrier_make_data.items():\n",
    "    filtered_purposes = merged_data[(merged_data['make'] == make) & (merged_data['purpose_of_flights'].isin(desired_purposes))]\n",
    "    if not filtered_purposes.empty:\n",
    "        print(\"Make:\", make)\n",
    "        print(\"Air Carriers:\", carriers)\n",
    "        print(\"Filtered Purposes:\")\n",
    "        print(filtered_purposes['purpose_of_flights'].unique())\n",
    "        print()"
   ]
  },
  {
   "cell_type": "code",
   "execution_count": 37,
   "id": "3906de3f-faa1-44df-b907-611343f4c2cc",
   "metadata": {},
   "outputs": [
    {
     "ename": "NameError",
     "evalue": "name 'merged_data' is not defined",
     "output_type": "error",
     "traceback": [
      "\u001b[0;31m---------------------------------------------------------------------------\u001b[0m",
      "\u001b[0;31mNameError\u001b[0m                                 Traceback (most recent call last)",
      "Cell \u001b[0;32mIn[37], line 1\u001b[0m\n\u001b[0;32m----> 1\u001b[0m carrier_make_data \u001b[38;5;241m=\u001b[39m \u001b[43mmerged_data\u001b[49m\u001b[38;5;241m.\u001b[39mgroupby(\u001b[38;5;124m'\u001b[39m\u001b[38;5;124mmake\u001b[39m\u001b[38;5;124m'\u001b[39m)[\u001b[38;5;124m'\u001b[39m\u001b[38;5;124mair_carrier\u001b[39m\u001b[38;5;124m'\u001b[39m]\u001b[38;5;241m.\u001b[39munique()\n\u001b[1;32m      3\u001b[0m \u001b[38;5;66;03m# Define the desired purposes to include\u001b[39;00m\n\u001b[1;32m      4\u001b[0m desired_purposes \u001b[38;5;241m=\u001b[39m [\u001b[38;5;124m'\u001b[39m\u001b[38;5;124mBusiness\u001b[39m\u001b[38;5;124m'\u001b[39m]\n",
      "\u001b[0;31mNameError\u001b[0m: name 'merged_data' is not defined"
     ]
    }
   ],
   "source": [
    "\n",
    "carrier_make_data = merged_data.groupby('make')['air_carrier'].unique()\n",
    "\n",
    "# Define the desired purposes to include\n",
    "desired_purposes = ['Business']\n",
    "\n",
    "for make, carriers in carrier_make_data.items():\n",
    "    filtered_purposes = merged_data[(merged_data['make'] == make) & (merged_data['purpose_of_flights'].isin(desired_purposes)) & (merged_data['air_carrier'] != 'unknown')]\n",
    "    if not filtered_purposes.empty:\n",
    "        print(\"Make:\", make)\n",
    "        print(\"Air Carriers:\", carriers)\n",
    "        print(\"Filtered Purposes:\")\n",
    "        print(filtered_purposes['purpose_of_flights'].unique())\n",
    "        print()"
   ]
  },
  {
   "cell_type": "code",
   "execution_count": null,
   "id": "e949be37-aee4-487c-b157-1bbedce07fe1",
   "metadata": {},
   "outputs": [],
   "source": [
    "len(merged_data['air_carrier'].unique())"
   ]
  },
  {
   "cell_type": "code",
   "execution_count": null,
   "id": "778d6d89-a814-4caf-831a-2bc6ac811818",
   "metadata": {},
   "outputs": [],
   "source": [
    "\n",
    "# Replace \"Air Tractor Inc\" with \"Air Tractor\"\n",
    "data['make'] = data['make'].replace(\"Air Tractor Inc\", \"Air Tractor\")"
   ]
  },
  {
   "cell_type": "code",
   "execution_count": 38,
   "id": "8808ad67-e08e-4ea0-9b6e-a07f80e5b3e2",
   "metadata": {},
   "outputs": [
    {
     "ename": "NameError",
     "evalue": "name 'data' is not defined",
     "output_type": "error",
     "traceback": [
      "\u001b[0;31m---------------------------------------------------------------------------\u001b[0m",
      "\u001b[0;31mNameError\u001b[0m                                 Traceback (most recent call last)",
      "Cell \u001b[0;32mIn[38], line 1\u001b[0m\n\u001b[0;32m----> 1\u001b[0m carrier_make_data \u001b[38;5;241m=\u001b[39m \u001b[43mdata\u001b[49m\u001b[38;5;241m.\u001b[39mgroupby(\u001b[38;5;124m'\u001b[39m\u001b[38;5;124mmake\u001b[39m\u001b[38;5;124m'\u001b[39m)[\u001b[38;5;124m'\u001b[39m\u001b[38;5;124mair_carrier\u001b[39m\u001b[38;5;124m'\u001b[39m]\u001b[38;5;241m.\u001b[39munique()\n\u001b[1;32m      3\u001b[0m \u001b[38;5;66;03m# Define a threshold for the minimum number of air carriers\u001b[39;00m\n\u001b[1;32m      4\u001b[0m threshold \u001b[38;5;241m=\u001b[39m \u001b[38;5;241m30\u001b[39m\n",
      "\u001b[0;31mNameError\u001b[0m: name 'data' is not defined"
     ]
    }
   ],
   "source": [
    "carrier_make_data = data.groupby('make')['air_carrier'].unique()\n",
    "\n",
    "# Define a threshold for the minimum number of air carriers\n",
    "threshold = 30\n",
    "\n",
    "good_makes = []\n",
    "\n",
    "for make, carriers in carrier_make_data.items():\n",
    "    if len(carriers) >= threshold:\n",
    "        filtered_purposes = data[(data['make'] == make) & (data['purpose_of_flights'].isin(desired_purposes)) & (data['air_carrier'] != 'unknown')]\n",
    "        if not filtered_purposes.empty:\n",
    "            good_makes.append(make)\n",
    "            print(\"Make:\", make)\n",
    "            print(\"Air Carriers:\", carriers)\n",
    "            print(\"Filtered Purposes:\")\n",
    "            print(filtered_purposes['purpose_of_flights'].unique())\n",
    "            print()\n",
    "\n",
    "print(\"Makes with a good number of air carriers:\")\n",
    "for make in good_makes:\n",
    "    print(make)"
   ]
  },
  {
   "cell_type": "code",
   "execution_count": null,
   "id": "c307d078-dfcb-4596-b6c0-09552c6df87b",
   "metadata": {},
   "outputs": [],
   "source": [
    "\n",
    "carrier_make_data = data.groupby('make')['air_carrier'].unique()\n",
    "\n",
    "# Define a threshold for the minimum number of air carriers\n",
    "threshold = 20\n",
    "\n",
    "good_makes = []\n",
    "\n",
    "for make, carriers in carrier_make_data.items():\n",
    "    if len(carriers) >= threshold:\n",
    "        good_makes.append(make)\n",
    "\n",
    "print(\"Makes with a good number of air carriers:\")\n",
    "print(good_makes)\n",
    "\n",
    "# Filter the 'data' DataFrame based on the 'good_makes' list\n",
    "filtered_data = data[data['make'].isin(good_makes)]\n",
    "\n",
    "# Print only the rows from the 'makes' column\n",
    "print(filtered_data['make'])"
   ]
  },
  {
   "cell_type": "code",
   "execution_count": null,
   "id": "e082ef0e-01b1-4e80-976a-84ca27a144ed",
   "metadata": {},
   "outputs": [],
   "source": [
    "filtered_data.info()"
   ]
  },
  {
   "cell_type": "code",
   "execution_count": 39,
   "id": "9bf7680d-e50d-478c-bd31-35bb5916d985",
   "metadata": {},
   "outputs": [
    {
     "ename": "NameError",
     "evalue": "name 'filtered_data' is not defined",
     "output_type": "error",
     "traceback": [
      "\u001b[0;31m---------------------------------------------------------------------------\u001b[0m",
      "\u001b[0;31mNameError\u001b[0m                                 Traceback (most recent call last)",
      "Cell \u001b[0;32mIn[39], line 3\u001b[0m\n\u001b[1;32m      1\u001b[0m \u001b[38;5;28;01mimport\u001b[39;00m \u001b[38;5;21;01mmatplotlib\u001b[39;00m\u001b[38;5;21;01m.\u001b[39;00m\u001b[38;5;21;01mpyplot\u001b[39;00m \u001b[38;5;28;01mas\u001b[39;00m \u001b[38;5;21;01mplt\u001b[39;00m\n\u001b[0;32m----> 3\u001b[0m top_10_makes \u001b[38;5;241m=\u001b[39m \u001b[43mfiltered_data\u001b[49m[\u001b[38;5;124m'\u001b[39m\u001b[38;5;124mmake\u001b[39m\u001b[38;5;124m'\u001b[39m]\u001b[38;5;241m.\u001b[39mvalue_counts()\u001b[38;5;241m.\u001b[39mnlargest(\u001b[38;5;241m15\u001b[39m)\u001b[38;5;241m.\u001b[39mindex\n\u001b[1;32m      5\u001b[0m injuries_per_make \u001b[38;5;241m=\u001b[39m filtered_data[filtered_data[\u001b[38;5;124m'\u001b[39m\u001b[38;5;124mmake\u001b[39m\u001b[38;5;124m'\u001b[39m]\u001b[38;5;241m.\u001b[39misin(top_10_makes)]\u001b[38;5;241m.\u001b[39mgroupby(\u001b[38;5;124m'\u001b[39m\u001b[38;5;124mmake\u001b[39m\u001b[38;5;124m'\u001b[39m)\u001b[38;5;241m.\u001b[39magg({\n\u001b[1;32m      6\u001b[0m     \u001b[38;5;124m'\u001b[39m\u001b[38;5;124mtotal_fatal_injuries\u001b[39m\u001b[38;5;124m'\u001b[39m: \u001b[38;5;124m'\u001b[39m\u001b[38;5;124msum\u001b[39m\u001b[38;5;124m'\u001b[39m,\n\u001b[1;32m      7\u001b[0m     \u001b[38;5;124m'\u001b[39m\u001b[38;5;124mtotal_serious_injuries\u001b[39m\u001b[38;5;124m'\u001b[39m: \u001b[38;5;124m'\u001b[39m\u001b[38;5;124msum\u001b[39m\u001b[38;5;124m'\u001b[39m,\n\u001b[1;32m      8\u001b[0m     \u001b[38;5;124m'\u001b[39m\u001b[38;5;124mtotal_minor_injuries\u001b[39m\u001b[38;5;124m'\u001b[39m: \u001b[38;5;124m'\u001b[39m\u001b[38;5;124msum\u001b[39m\u001b[38;5;124m'\u001b[39m\n\u001b[1;32m      9\u001b[0m })\u001b[38;5;241m.\u001b[39mreset_index()\n\u001b[1;32m     11\u001b[0m \u001b[38;5;66;03m# Plotting the results\u001b[39;00m\n",
      "\u001b[0;31mNameError\u001b[0m: name 'filtered_data' is not defined"
     ]
    }
   ],
   "source": [
    "import matplotlib.pyplot as plt\n",
    "\n",
    "top_10_makes = filtered_data['make'].value_counts().nlargest(15).index\n",
    "\n",
    "injuries_per_make = filtered_data[filtered_data['make'].isin(top_10_makes)].groupby('make').agg({\n",
    "    'total_fatal_injuries': 'sum',\n",
    "    'total_serious_injuries': 'sum',\n",
    "    'total_minor_injuries': 'sum'\n",
    "}).reset_index()\n",
    "\n",
    "# Plotting the results\n",
    "plt.figure(figsize=(10, 6))\n",
    "plt.bar(injuries_per_make['make'], injuries_per_make['total_fatal_injuries'], label='Fatal Injuries')\n",
    "plt.bar(injuries_per_make['make'], injuries_per_make['total_serious_injuries'], label='Serious Injuries')\n",
    "plt.bar(injuries_per_make['make'], injuries_per_make['total_minor_injuries'], label='Minor Injuries')\n",
    "plt.xlabel('Make')\n",
    "plt.ylabel('Number of Injuries')\n",
    "plt.title('Total Injuries per Make (Top 10)')\n",
    "plt.xticks(rotation=90)\n",
    "plt.legend()\n",
    "plt.show()"
   ]
  },
  {
   "cell_type": "code",
   "execution_count": null,
   "id": "d1fd7b09-cc52-4a7b-ac5e-86470e64e07a",
   "metadata": {},
   "outputs": [],
   "source": [
    "\n",
    "# Group the filtered data by 'make' and 'model' columns\n",
    "make_model_data = filtered_data.groupby(['make', 'model']).size().reset_index(name='count')\n",
    "\n",
    "# Print the associated models for each make\n",
    "for make in good_makes:\n",
    "    models = make_model_data[make_model_data['make'] == make]['model']\n",
    "    print(\"Make:\", make)\n",
    "    print(\"Associated Models:\", models.tolist())\n",
    "    print()"
   ]
  },
  {
   "cell_type": "code",
   "execution_count": 40,
   "id": "ff41d93b-4845-4ba0-a69e-389cf14f4808",
   "metadata": {},
   "outputs": [
    {
     "ename": "NameError",
     "evalue": "name 'filtered_data' is not defined",
     "output_type": "error",
     "traceback": [
      "\u001b[0;31m---------------------------------------------------------------------------\u001b[0m",
      "\u001b[0;31mNameError\u001b[0m                                 Traceback (most recent call last)",
      "Cell \u001b[0;32mIn[40], line 4\u001b[0m\n\u001b[1;32m      1\u001b[0m \u001b[38;5;28;01mimport\u001b[39;00m \u001b[38;5;21;01mmatplotlib\u001b[39;00m\u001b[38;5;21;01m.\u001b[39;00m\u001b[38;5;21;01mpyplot\u001b[39;00m \u001b[38;5;28;01mas\u001b[39;00m \u001b[38;5;21;01mplt\u001b[39;00m\n\u001b[1;32m      3\u001b[0m \u001b[38;5;66;03m# Filter the data for the specific makes you want to compare\u001b[39;00m\n\u001b[0;32m----> 4\u001b[0m make1_data \u001b[38;5;241m=\u001b[39m \u001b[43mfiltered_data\u001b[49m[filtered_data[\u001b[38;5;124m'\u001b[39m\u001b[38;5;124mmake\u001b[39m\u001b[38;5;124m'\u001b[39m] \u001b[38;5;241m==\u001b[39m \u001b[38;5;124m'\u001b[39m\u001b[38;5;124mBoeing\u001b[39m\u001b[38;5;124m'\u001b[39m]\n\u001b[1;32m      5\u001b[0m make2_data \u001b[38;5;241m=\u001b[39m filtered_data[filtered_data[\u001b[38;5;124m'\u001b[39m\u001b[38;5;124mmake\u001b[39m\u001b[38;5;124m'\u001b[39m] \u001b[38;5;241m==\u001b[39m \u001b[38;5;124m'\u001b[39m\u001b[38;5;124mAirbus\u001b[39m\u001b[38;5;124m'\u001b[39m]\n\u001b[1;32m      7\u001b[0m \u001b[38;5;66;03m# Group the filtered data by weather conditions and calculate the count for each make\u001b[39;00m\n",
      "\u001b[0;31mNameError\u001b[0m: name 'filtered_data' is not defined"
     ]
    }
   ],
   "source": [
    "import matplotlib.pyplot as plt\n",
    "\n",
    "# Filter the data for the specific makes you want to compare\n",
    "make1_data = filtered_data[filtered_data['make'] == 'Boeing']\n",
    "make2_data = filtered_data[filtered_data['make'] == 'Airbus']\n",
    "\n",
    "# Group the filtered data by weather conditions and calculate the count for each make\n",
    "Boeing_damage_counts = make1_data['aircraft_damage'].value_counts()\n",
    "Airbus_damage_counts = make2_data['aircraft_damage'].value_counts()\n",
    "\n",
    "# Plotting the results\n",
    "plt.figure(figsize=(10, 6))\n",
    "plt.bar(make1_weather_counts.index, make1_weather_counts.values, label='Boeing')\n",
    "plt.bar(make2_weather_counts.index, make2_weather_counts.values, label='Airbus')\n",
    "plt.xlabel('Aircraft Damage')\n",
    "plt.ylabel('Number of Vehicles')\n",
    "plt.title('Comparison of Boeing and Airbus by Aircraft Damage')\n",
    "plt.xticks(rotation=90)\n",
    "plt.legend()\n",
    "plt.show()"
   ]
  },
  {
   "cell_type": "code",
   "execution_count": null,
   "id": "fed95a4b-6824-4337-8f78-baa62f7b1699",
   "metadata": {},
   "outputs": [],
   "source": []
  }
 ],
 "metadata": {
  "kernelspec": {
   "display_name": "Python 3 (ipykernel)",
   "language": "python",
   "name": "python3"
  },
  "language_info": {
   "codemirror_mode": {
    "name": "ipython",
    "version": 3
   },
   "file_extension": ".py",
   "mimetype": "text/x-python",
   "name": "python",
   "nbconvert_exporter": "python",
   "pygments_lexer": "ipython3",
   "version": "3.9.16"
  }
 },
 "nbformat": 4,
 "nbformat_minor": 5
}
